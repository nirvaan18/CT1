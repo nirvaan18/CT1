{
 "cells": [
  {
   "cell_type": "markdown",
   "metadata": {
    "id": "DnW4VlulKrLx"
   },
   "source": [
    "## Preparing the lab environment\n",
    "\n",
    "- Create a dataset directory\n",
    "- download the file to the *datasets* directory"
   ]
  },
  {
   "cell_type": "code",
   "execution_count": 9,
   "metadata": {
    "executionInfo": {
     "elapsed": 657,
     "status": "ok",
     "timestamp": 1711173243593,
     "user": {
      "displayName": "MANARANJAN PRADHAN",
      "userId": "03885802779803335284"
     },
     "user_tz": -330
    },
    "id": "bRJyT7BEJ7Yx"
   },
   "outputs": [
    {
     "name": "stderr",
     "output_type": "stream",
     "text": [
      "A subdirectory or file datasets already exists.\n"
     ]
    }
   ],
   "source": [
    "!mkdir datasets"
   ]
  },
  {
   "cell_type": "code",
   "execution_count": 11,
   "metadata": {
    "colab": {
     "base_uri": "https://localhost:8080/"
    },
    "executionInfo": {
     "elapsed": 2515,
     "status": "ok",
     "timestamp": 1711173283370,
     "user": {
      "displayName": "MANARANJAN PRADHAN",
      "userId": "03885802779803335284"
     },
     "user_tz": -330
    },
    "id": "Nc0mlI9gLMWj",
    "outputId": "e8a3d443-370c-4d0f-867a-233d5a6376cb"
   },
   "outputs": [
    {
     "name": "stderr",
     "output_type": "stream",
     "text": [
      "Downloading...\n",
      "From (original): https://drive.google.com/uc?id=18Ulneqq0CSsuPPva9F4If-OFJkn7rj4M\n",
      "From (redirected): https://drive.google.com/uc?id=18Ulneqq0CSsuPPva9F4If-OFJkn7rj4M&confirm=t&uuid=3b4bee4a-5cc1-4ff0-a44d-59f1309111a1\n",
      "To: C:\\Users\\lavan\\Documents\\CT1\\Session 1\\Data\\datasets\\sigma.zip\n",
      "\n",
      "  0%|          | 0.00/122M [00:00<?, ?B/s]\n",
      "  0%|          | 524k/122M [00:00<00:35, 3.38MB/s]\n",
      "  2%|2         | 2.62M/122M [00:00<00:11, 10.6MB/s]\n",
      "  4%|3         | 4.72M/122M [00:00<00:11, 10.0MB/s]\n",
      "  5%|5         | 6.29M/122M [00:00<00:10, 11.5MB/s]\n",
      "  7%|6         | 8.39M/122M [00:00<00:08, 13.9MB/s]\n",
      "  8%|8         | 9.96M/122M [00:00<00:08, 13.0MB/s]\n",
      "  9%|9         | 11.5M/122M [00:00<00:08, 12.8MB/s]\n",
      " 11%|#         | 13.1M/122M [00:01<00:14, 7.31MB/s]\n",
      " 12%|#2        | 15.2M/122M [00:01<00:11, 9.50MB/s]\n",
      " 14%|#4        | 17.3M/122M [00:01<00:09, 11.5MB/s]\n",
      " 16%|#5        | 18.9M/122M [00:01<00:09, 11.0MB/s]\n",
      " 17%|#6        | 20.4M/122M [00:02<00:12, 8.24MB/s]\n",
      " 19%|#8        | 22.5M/122M [00:02<00:09, 10.3MB/s]\n",
      " 20%|##        | 24.6M/122M [00:02<00:07, 12.3MB/s]\n",
      " 22%|##1       | 26.2M/122M [00:02<00:07, 12.5MB/s]\n",
      " 23%|##2       | 27.8M/122M [00:02<00:08, 11.4MB/s]\n",
      " 25%|##4       | 29.9M/122M [00:02<00:07, 12.8MB/s]\n",
      " 26%|##6       | 32.0M/122M [00:02<00:06, 13.9MB/s]\n",
      " 28%|##8       | 34.1M/122M [00:02<00:06, 14.6MB/s]\n",
      " 29%|##9       | 35.7M/122M [00:03<00:05, 14.4MB/s]\n",
      " 31%|###1      | 37.7M/122M [00:03<00:05, 15.3MB/s]\n",
      " 33%|###2      | 39.8M/122M [00:03<00:05, 15.3MB/s]\n",
      " 34%|###4      | 41.9M/122M [00:03<00:04, 16.7MB/s]\n",
      " 36%|###6      | 44.0M/122M [00:03<00:04, 17.8MB/s]\n",
      " 38%|###8      | 46.7M/122M [00:03<00:03, 18.8MB/s]\n",
      " 40%|####      | 49.3M/122M [00:03<00:03, 18.8MB/s]\n",
      " 42%|####2     | 51.4M/122M [00:03<00:03, 17.9MB/s]\n",
      " 44%|####3     | 53.5M/122M [00:04<00:03, 17.1MB/s]\n",
      " 46%|####5     | 55.6M/122M [00:04<00:03, 17.9MB/s]\n",
      " 47%|####7     | 57.7M/122M [00:04<00:03, 18.4MB/s]\n",
      " 49%|####9     | 59.8M/122M [00:04<00:04, 14.2MB/s]\n",
      " 51%|#####1    | 62.4M/122M [00:04<00:03, 16.1MB/s]\n",
      " 53%|#####2    | 64.5M/122M [00:04<00:03, 17.1MB/s]\n",
      " 55%|#####4    | 66.6M/122M [00:04<00:03, 17.9MB/s]\n",
      " 56%|#####6    | 68.7M/122M [00:04<00:03, 17.6MB/s]\n",
      " 58%|#####8    | 70.8M/122M [00:05<00:02, 17.4MB/s]\n",
      " 60%|#####9    | 72.9M/122M [00:05<00:03, 14.7MB/s]\n",
      " 62%|######1   | 75.0M/122M [00:05<00:03, 14.0MB/s]\n",
      " 63%|######3   | 77.1M/122M [00:05<00:03, 14.8MB/s]\n",
      " 65%|######4   | 78.6M/122M [00:05<00:04, 10.7MB/s]\n",
      " 67%|######6   | 81.3M/122M [00:05<00:03, 13.3MB/s]\n",
      " 69%|######8   | 83.9M/122M [00:06<00:02, 15.2MB/s]\n",
      " 71%|#######   | 86.0M/122M [00:06<00:02, 12.5MB/s]\n",
      " 72%|#######1  | 87.6M/122M [00:06<00:02, 12.5MB/s]\n",
      " 73%|#######3  | 89.1M/122M [00:06<00:02, 12.6MB/s]\n",
      " 75%|#######4  | 90.7M/122M [00:06<00:02, 12.3MB/s]\n",
      " 76%|#######5  | 92.3M/122M [00:06<00:02, 12.1MB/s]\n",
      " 78%|#######7  | 94.4M/122M [00:06<00:01, 14.1MB/s]\n",
      " 79%|#######8  | 95.9M/122M [00:07<00:01, 13.3MB/s]\n",
      " 81%|########  | 98.6M/122M [00:07<00:01, 15.6MB/s]\n",
      " 83%|########3 | 101M/122M [00:07<00:02, 9.20MB/s] \n",
      " 85%|########4 | 103M/122M [00:07<00:01, 10.8MB/s]\n",
      " 86%|########6 | 105M/122M [00:08<00:01, 9.89MB/s]\n",
      " 87%|########7 | 106M/122M [00:08<00:01, 8.85MB/s]\n",
      " 89%|########8 | 108M/122M [00:08<00:01, 8.07MB/s]\n",
      " 90%|########9 | 109M/122M [00:08<00:01, 8.07MB/s]\n",
      " 90%|######### | 110M/122M [00:08<00:01, 8.46MB/s]\n",
      " 91%|#########1| 111M/122M [00:08<00:01, 8.71MB/s]\n",
      " 92%|#########2| 112M/122M [00:08<00:01, 8.95MB/s]\n",
      " 94%|#########3| 114M/122M [00:09<00:00, 10.5MB/s]\n",
      " 96%|#########5| 116M/122M [00:09<00:00, 12.2MB/s]\n",
      " 97%|#########7| 118M/122M [00:09<00:00, 13.5MB/s]\n",
      " 99%|#########9| 121M/122M [00:09<00:00, 14.7MB/s]\n",
      "100%|##########| 122M/122M [00:09<00:00, 12.7MB/s]\n"
     ]
    }
   ],
   "source": [
    "!gdown 18Ulneqq0CSsuPPva9F4If-OFJkn7rj4M -O datasets/sigma.zip"
   ]
  },
  {
   "cell_type": "markdown",
   "metadata": {
    "id": "WHJvSB-NgaZe"
   },
   "source": [
    "### Download the dataset"
   ]
  },
  {
   "cell_type": "code",
   "execution_count": 13,
   "metadata": {
    "colab": {
     "base_uri": "https://localhost:8080/"
    },
    "executionInfo": {
     "elapsed": 384,
     "status": "ok",
     "timestamp": 1711173290047,
     "user": {
      "displayName": "MANARANJAN PRADHAN",
      "userId": "03885802779803335284"
     },
     "user_tz": -330
    },
    "id": "tXIuxC-bNVko",
    "outputId": "144cd398-84cd-4450-b69c-8272267154d5"
   },
   "outputs": [
    {
     "name": "stderr",
     "output_type": "stream",
     "text": [
      "Invalid switch - \"\".\n"
     ]
    }
   ],
   "source": [
    "ls -al datasets/"
   ]
  },
  {
   "cell_type": "markdown",
   "metadata": {
    "id": "N6qbFMYOgdEC"
   },
   "source": [
    "### Unzip the dataset"
   ]
  },
  {
   "cell_type": "code",
   "execution_count": 19,
   "metadata": {},
   "outputs": [
    {
     "name": "stdout",
     "output_type": "stream",
     "text": [
      "Files extracted to: datasets/\n"
     ]
    }
   ],
   "source": [
    "import zipfile\n",
    "import os\n",
    "\n",
    "# Path to the ZIP file\n",
    "zip_path = \"datasets/sigma.zip\"\n",
    "extract_path = \"datasets/\"\n",
    "\n",
    "# Extract the ZIP file\n",
    "with zipfile.ZipFile(zip_path, 'r') as zip_ref:\n",
    "    zip_ref.extractall(extract_path)\n",
    "\n",
    "print(f\"Files extracted to: {extract_path}\")\n",
    "\n"
   ]
  },
  {
   "cell_type": "code",
   "execution_count": null,
   "metadata": {
    "colab": {
     "base_uri": "https://localhost:8080/"
    },
    "executionInfo": {
     "elapsed": 26094,
     "status": "ok",
     "timestamp": 1711173348300,
     "user": {
      "displayName": "MANARANJAN PRADHAN",
      "userId": "03885802779803335284"
     },
     "user_tz": -330
    },
    "id": "hSurMQn8Ojs0",
    "outputId": "10be87d4-7e8b-466b-a1c1-27c9ff5baff2"
   },
   "outputs": [],
   "source": [
    "#thsi is not working as it is not compatible with the windows or linux   , so used the above command\n",
    "#!unzip datasets/sigma.zip -d datasets/"
   ]
  },
  {
   "cell_type": "code",
   "execution_count": 22,
   "metadata": {},
   "outputs": [
    {
     "name": "stdout",
     "output_type": "stream",
     "text": [
      ".ipynb_checkpoints\n",
      "sample_submission.csv\n",
      "Sigma\n",
      "sigma.zip\n",
      "test.csv\n",
      "train.csv\n"
     ]
    }
   ],
   "source": [
    "import os\n",
    "\n",
    "# List all files and directories in the 'datasets' folder\n",
    "for file in os.listdir(\"datasets\"):\n",
    "    print(file)\n"
   ]
  },
  {
   "cell_type": "code",
   "execution_count": null,
   "metadata": {
    "colab": {
     "base_uri": "https://localhost:8080/"
    },
    "id": "p2_TOflvO6sB",
    "outputId": "4aa200a6-bb1b-4afc-89cd-89aa79509b78"
   },
   "outputs": [],
   "source": [
    "#this is specific to linux or unix not windows, so used the above command\n",
    "#!ls -al datasets/"
   ]
  },
  {
   "cell_type": "markdown",
   "metadata": {
    "id": "Te90EZkSZbdY"
   },
   "source": [
    "## Benchmarking Various File Formats\n",
    "\n",
    "- csv\n",
    "- pickle\n",
    "- feather\n",
    "- parquet"
   ]
  },
  {
   "cell_type": "markdown",
   "metadata": {
    "id": "2IGtI_IbgmJw"
   },
   "source": [
    "### Reading the CSV File"
   ]
  },
  {
   "cell_type": "code",
   "execution_count": 24,
   "metadata": {
    "executionInfo": {
     "elapsed": 636,
     "status": "ok",
     "timestamp": 1711173393035,
     "user": {
      "displayName": "MANARANJAN PRADHAN",
      "userId": "03885802779803335284"
     },
     "user_tz": -330
    },
    "id": "fm5UDm5jPGfw"
   },
   "outputs": [],
   "source": [
    "import pandas as pd\n",
    "import os"
   ]
  },
  {
   "cell_type": "code",
   "execution_count": 28,
   "metadata": {},
   "outputs": [],
   "source": [
    "#Force pandas to read the entire file in one go, which can avoid type inference issues caused by chunk processing: as the error in next comman line \n",
    "#By default, pandas processes large files in chunks (low_memory=True), inferring data types on the fly, leading to potential mismatches.\n",
    "import pandas as pd\n",
    "\n",
    "train_df = pd.read_csv(\"./datasets/train.csv\", low_memory=False)\n"
   ]
  },
  {
   "cell_type": "code",
   "execution_count": null,
   "metadata": {
    "colab": {
     "base_uri": "https://localhost:8080/"
    },
    "executionInfo": {
     "elapsed": 17391,
     "status": "ok",
     "timestamp": 1711173422081,
     "user": {
      "displayName": "MANARANJAN PRADHAN",
      "userId": "03885802779803335284"
     },
     "user_tz": -330
    },
    "id": "nwGxN0oMPbpk",
    "outputId": "964968c7-c9a8-4483-d057-f5aaebda34c6"
   },
   "outputs": [],
   "source": [
    "#used the command in above line hence disabling this\n",
    "#%%time\n",
    "\n",
    "#train_df = pd.read_csv(\"./datasets/train.csv\")"
   ]
  },
  {
   "cell_type": "code",
   "execution_count": 29,
   "metadata": {
    "colab": {
     "base_uri": "https://localhost:8080/"
    },
    "executionInfo": {
     "elapsed": 526,
     "status": "ok",
     "timestamp": 1711173544510,
     "user": {
      "displayName": "MANARANJAN PRADHAN",
      "userId": "03885802779803335284"
     },
     "user_tz": -330
    },
    "id": "QctrbNBaUolb",
    "outputId": "bc9a48f4-d12d-4268-e4a7-302fb4ef5ef6"
   },
   "outputs": [
    {
     "data": {
      "text/plain": [
       "channelGrouping         object\n",
       "date                     int64\n",
       "device                  object\n",
       "fullVisitorId           object\n",
       "geoNetwork              object\n",
       "sessionId               object\n",
       "socialEngagementType    object\n",
       "totals                  object\n",
       "trafficSource           object\n",
       "visitId                  int64\n",
       "visitNumber              int64\n",
       "visitStartTime           int64\n",
       "dtype: object"
      ]
     },
     "execution_count": 29,
     "metadata": {},
     "output_type": "execute_result"
    }
   ],
   "source": [
    "train_df.dtypes"
   ]
  },
  {
   "cell_type": "code",
   "execution_count": 30,
   "metadata": {
    "colab": {
     "base_uri": "https://localhost:8080/"
    },
    "executionInfo": {
     "elapsed": 2319,
     "status": "ok",
     "timestamp": 1711173612167,
     "user": {
      "displayName": "MANARANJAN PRADHAN",
      "userId": "03885802779803335284"
     },
     "user_tz": -330
    },
    "id": "9klvKDFwPi4D",
    "outputId": "f9d8dbc5-4fc2-4df3-c39b-44d6da9a2f7b"
   },
   "outputs": [
    {
     "name": "stdout",
     "output_type": "stream",
     "text": [
      "<class 'pandas.core.frame.DataFrame'>\n",
      "RangeIndex: 903653 entries, 0 to 903652\n",
      "Data columns (total 12 columns):\n",
      " #   Column                Non-Null Count   Dtype \n",
      "---  ------                --------------   ----- \n",
      " 0   channelGrouping       903653 non-null  object\n",
      " 1   date                  903653 non-null  int64 \n",
      " 2   device                903653 non-null  object\n",
      " 3   fullVisitorId         903653 non-null  object\n",
      " 4   geoNetwork            903653 non-null  object\n",
      " 5   sessionId             903653 non-null  object\n",
      " 6   socialEngagementType  903653 non-null  object\n",
      " 7   totals                903653 non-null  object\n",
      " 8   trafficSource         903653 non-null  object\n",
      " 9   visitId               903653 non-null  int64 \n",
      " 10  visitNumber           903653 non-null  int64 \n",
      " 11  visitStartTime        903653 non-null  int64 \n",
      "dtypes: int64(4), object(8)\n",
      "memory usage: 82.7+ MB\n"
     ]
    }
   ],
   "source": [
    "train_df.info()"
   ]
  },
  {
   "cell_type": "code",
   "execution_count": 31,
   "metadata": {
    "colab": {
     "base_uri": "https://localhost:8080/"
    },
    "id": "MV21d_ArQs4w",
    "outputId": "b2277f6a-3af4-4f7b-c2e5-1c8667115642"
   },
   "outputs": [
    {
     "data": {
      "text/plain": [
       "(903653, 12)"
      ]
     },
     "execution_count": 31,
     "metadata": {},
     "output_type": "execute_result"
    }
   ],
   "source": [
    "train_df.shape"
   ]
  },
  {
   "cell_type": "code",
   "execution_count": 32,
   "metadata": {
    "colab": {
     "base_uri": "https://localhost:8080/",
     "height": 475
    },
    "id": "L7NKV9H9QxhP",
    "outputId": "91d23a09-b54a-43e9-ea46-d48b5e2866f3"
   },
   "outputs": [
    {
     "data": {
      "text/html": [
       "<div>\n",
       "<style scoped>\n",
       "    .dataframe tbody tr th:only-of-type {\n",
       "        vertical-align: middle;\n",
       "    }\n",
       "\n",
       "    .dataframe tbody tr th {\n",
       "        vertical-align: top;\n",
       "    }\n",
       "\n",
       "    .dataframe thead th {\n",
       "        text-align: right;\n",
       "    }\n",
       "</style>\n",
       "<table border=\"1\" class=\"dataframe\">\n",
       "  <thead>\n",
       "    <tr style=\"text-align: right;\">\n",
       "      <th></th>\n",
       "      <th>channelGrouping</th>\n",
       "      <th>date</th>\n",
       "      <th>device</th>\n",
       "      <th>fullVisitorId</th>\n",
       "      <th>geoNetwork</th>\n",
       "      <th>sessionId</th>\n",
       "      <th>socialEngagementType</th>\n",
       "      <th>totals</th>\n",
       "      <th>trafficSource</th>\n",
       "      <th>visitId</th>\n",
       "      <th>visitNumber</th>\n",
       "      <th>visitStartTime</th>\n",
       "    </tr>\n",
       "  </thead>\n",
       "  <tbody>\n",
       "    <tr>\n",
       "      <th>0</th>\n",
       "      <td>Organic Search</td>\n",
       "      <td>20160902</td>\n",
       "      <td>{\"browser\": \"Chrome\", \"browserVersion\": \"not a...</td>\n",
       "      <td>1131660440785968503</td>\n",
       "      <td>{\"continent\": \"Asia\", \"subContinent\": \"Western...</td>\n",
       "      <td>1131660440785968503_1472830385</td>\n",
       "      <td>Not Socially Engaged</td>\n",
       "      <td>{\"visits\": \"1\", \"hits\": \"1\", \"pageviews\": \"1\",...</td>\n",
       "      <td>{\"campaign\": \"(not set)\", \"source\": \"google\", ...</td>\n",
       "      <td>1472830385</td>\n",
       "      <td>1</td>\n",
       "      <td>1472830385</td>\n",
       "    </tr>\n",
       "    <tr>\n",
       "      <th>1</th>\n",
       "      <td>Organic Search</td>\n",
       "      <td>20160902</td>\n",
       "      <td>{\"browser\": \"Firefox\", \"browserVersion\": \"not ...</td>\n",
       "      <td>377306020877927890</td>\n",
       "      <td>{\"continent\": \"Oceania\", \"subContinent\": \"Aust...</td>\n",
       "      <td>377306020877927890_1472880147</td>\n",
       "      <td>Not Socially Engaged</td>\n",
       "      <td>{\"visits\": \"1\", \"hits\": \"1\", \"pageviews\": \"1\",...</td>\n",
       "      <td>{\"campaign\": \"(not set)\", \"source\": \"google\", ...</td>\n",
       "      <td>1472880147</td>\n",
       "      <td>1</td>\n",
       "      <td>1472880147</td>\n",
       "    </tr>\n",
       "    <tr>\n",
       "      <th>2</th>\n",
       "      <td>Organic Search</td>\n",
       "      <td>20160902</td>\n",
       "      <td>{\"browser\": \"Chrome\", \"browserVersion\": \"not a...</td>\n",
       "      <td>3895546263509774583</td>\n",
       "      <td>{\"continent\": \"Europe\", \"subContinent\": \"South...</td>\n",
       "      <td>3895546263509774583_1472865386</td>\n",
       "      <td>Not Socially Engaged</td>\n",
       "      <td>{\"visits\": \"1\", \"hits\": \"1\", \"pageviews\": \"1\",...</td>\n",
       "      <td>{\"campaign\": \"(not set)\", \"source\": \"google\", ...</td>\n",
       "      <td>1472865386</td>\n",
       "      <td>1</td>\n",
       "      <td>1472865386</td>\n",
       "    </tr>\n",
       "    <tr>\n",
       "      <th>3</th>\n",
       "      <td>Organic Search</td>\n",
       "      <td>20160902</td>\n",
       "      <td>{\"browser\": \"UC Browser\", \"browserVersion\": \"n...</td>\n",
       "      <td>4763447161404445595</td>\n",
       "      <td>{\"continent\": \"Asia\", \"subContinent\": \"Southea...</td>\n",
       "      <td>4763447161404445595_1472881213</td>\n",
       "      <td>Not Socially Engaged</td>\n",
       "      <td>{\"visits\": \"1\", \"hits\": \"1\", \"pageviews\": \"1\",...</td>\n",
       "      <td>{\"campaign\": \"(not set)\", \"source\": \"google\", ...</td>\n",
       "      <td>1472881213</td>\n",
       "      <td>1</td>\n",
       "      <td>1472881213</td>\n",
       "    </tr>\n",
       "    <tr>\n",
       "      <th>4</th>\n",
       "      <td>Organic Search</td>\n",
       "      <td>20160902</td>\n",
       "      <td>{\"browser\": \"Chrome\", \"browserVersion\": \"not a...</td>\n",
       "      <td>27294437909732085</td>\n",
       "      <td>{\"continent\": \"Europe\", \"subContinent\": \"North...</td>\n",
       "      <td>27294437909732085_1472822600</td>\n",
       "      <td>Not Socially Engaged</td>\n",
       "      <td>{\"visits\": \"1\", \"hits\": \"1\", \"pageviews\": \"1\",...</td>\n",
       "      <td>{\"campaign\": \"(not set)\", \"source\": \"google\", ...</td>\n",
       "      <td>1472822600</td>\n",
       "      <td>2</td>\n",
       "      <td>1472822600</td>\n",
       "    </tr>\n",
       "  </tbody>\n",
       "</table>\n",
       "</div>"
      ],
      "text/plain": [
       "  channelGrouping      date  \\\n",
       "0  Organic Search  20160902   \n",
       "1  Organic Search  20160902   \n",
       "2  Organic Search  20160902   \n",
       "3  Organic Search  20160902   \n",
       "4  Organic Search  20160902   \n",
       "\n",
       "                                              device        fullVisitorId  \\\n",
       "0  {\"browser\": \"Chrome\", \"browserVersion\": \"not a...  1131660440785968503   \n",
       "1  {\"browser\": \"Firefox\", \"browserVersion\": \"not ...   377306020877927890   \n",
       "2  {\"browser\": \"Chrome\", \"browserVersion\": \"not a...  3895546263509774583   \n",
       "3  {\"browser\": \"UC Browser\", \"browserVersion\": \"n...  4763447161404445595   \n",
       "4  {\"browser\": \"Chrome\", \"browserVersion\": \"not a...    27294437909732085   \n",
       "\n",
       "                                          geoNetwork  \\\n",
       "0  {\"continent\": \"Asia\", \"subContinent\": \"Western...   \n",
       "1  {\"continent\": \"Oceania\", \"subContinent\": \"Aust...   \n",
       "2  {\"continent\": \"Europe\", \"subContinent\": \"South...   \n",
       "3  {\"continent\": \"Asia\", \"subContinent\": \"Southea...   \n",
       "4  {\"continent\": \"Europe\", \"subContinent\": \"North...   \n",
       "\n",
       "                        sessionId  socialEngagementType  \\\n",
       "0  1131660440785968503_1472830385  Not Socially Engaged   \n",
       "1   377306020877927890_1472880147  Not Socially Engaged   \n",
       "2  3895546263509774583_1472865386  Not Socially Engaged   \n",
       "3  4763447161404445595_1472881213  Not Socially Engaged   \n",
       "4    27294437909732085_1472822600  Not Socially Engaged   \n",
       "\n",
       "                                              totals  \\\n",
       "0  {\"visits\": \"1\", \"hits\": \"1\", \"pageviews\": \"1\",...   \n",
       "1  {\"visits\": \"1\", \"hits\": \"1\", \"pageviews\": \"1\",...   \n",
       "2  {\"visits\": \"1\", \"hits\": \"1\", \"pageviews\": \"1\",...   \n",
       "3  {\"visits\": \"1\", \"hits\": \"1\", \"pageviews\": \"1\",...   \n",
       "4  {\"visits\": \"1\", \"hits\": \"1\", \"pageviews\": \"1\",...   \n",
       "\n",
       "                                       trafficSource     visitId  visitNumber  \\\n",
       "0  {\"campaign\": \"(not set)\", \"source\": \"google\", ...  1472830385            1   \n",
       "1  {\"campaign\": \"(not set)\", \"source\": \"google\", ...  1472880147            1   \n",
       "2  {\"campaign\": \"(not set)\", \"source\": \"google\", ...  1472865386            1   \n",
       "3  {\"campaign\": \"(not set)\", \"source\": \"google\", ...  1472881213            1   \n",
       "4  {\"campaign\": \"(not set)\", \"source\": \"google\", ...  1472822600            2   \n",
       "\n",
       "   visitStartTime  \n",
       "0      1472830385  \n",
       "1      1472880147  \n",
       "2      1472865386  \n",
       "3      1472881213  \n",
       "4      1472822600  "
      ]
     },
     "execution_count": 32,
     "metadata": {},
     "output_type": "execute_result"
    }
   ],
   "source": [
    "train_df.head(5)"
   ]
  },
  {
   "cell_type": "markdown",
   "metadata": {
    "id": "zrWU3mlSgpX1"
   },
   "source": [
    "### Optimizing data types"
   ]
  },
  {
   "cell_type": "code",
   "execution_count": 33,
   "metadata": {
    "executionInfo": {
     "elapsed": 398,
     "status": "ok",
     "timestamp": 1711173642694,
     "user": {
      "displayName": "MANARANJAN PRADHAN",
      "userId": "03885802779803335284"
     },
     "user_tz": -330
    },
    "id": "NXLzZstZVDiH"
   },
   "outputs": [],
   "source": [
    "#while reading the file with data, we can enforce our own columns, meaning youcan define what your datatype has to be \n",
    "#memory will reduce as for the last few variabes the bytes have been reduced when we revised the datatypes and enforced new\n",
    "dtypes = {\n",
    "    \"channelGrouping\": \"str\",\n",
    "    \"date\": \"int16\",\n",
    "    \"device\": \"str\",\n",
    "    \"fullVisitorId\": \"str\",\n",
    "    \"geoNetwork\": \"str\",\n",
    "    \"sessionId\": \"str\",\n",
    "    \"socialEngagementType\": \"str\",\n",
    "    \"totals\": \"str\",\n",
    "    \"trafficSource\": \"str\",\n",
    "    \"visitId\": \"uint16\",\n",
    "    \"visitNumber\": \"int16\",\n",
    "    \"visitStartTime\": \"uint16\"\n",
    "}"
   ]
  },
  {
   "cell_type": "code",
   "execution_count": 34,
   "metadata": {
    "executionInfo": {
     "elapsed": 19701,
     "status": "ok",
     "timestamp": 1711173670879,
     "user": {
      "displayName": "MANARANJAN PRADHAN",
      "userId": "03885802779803335284"
     },
     "user_tz": -330
    },
    "id": "Ggj6gTBcVv_I"
   },
   "outputs": [],
   "source": [
    "train_new_df = pd.read_csv(\"./datasets/train.csv\", dtype = dtypes)"
   ]
  },
  {
   "cell_type": "code",
   "execution_count": 35,
   "metadata": {
    "colab": {
     "base_uri": "https://localhost:8080/"
    },
    "executionInfo": {
     "elapsed": 2084,
     "status": "ok",
     "timestamp": 1711173672951,
     "user": {
      "displayName": "MANARANJAN PRADHAN",
      "userId": "03885802779803335284"
     },
     "user_tz": -330
    },
    "id": "iyyGZawVWDEt",
    "outputId": "f696cd85-7933-4967-aa07-0be184c22278"
   },
   "outputs": [
    {
     "name": "stdout",
     "output_type": "stream",
     "text": [
      "<class 'pandas.core.frame.DataFrame'>\n",
      "RangeIndex: 903653 entries, 0 to 903652\n",
      "Data columns (total 12 columns):\n",
      " #   Column                Non-Null Count   Dtype \n",
      "---  ------                --------------   ----- \n",
      " 0   channelGrouping       903653 non-null  object\n",
      " 1   date                  903653 non-null  int16 \n",
      " 2   device                903653 non-null  object\n",
      " 3   fullVisitorId         903653 non-null  object\n",
      " 4   geoNetwork            903653 non-null  object\n",
      " 5   sessionId             903653 non-null  object\n",
      " 6   socialEngagementType  903653 non-null  object\n",
      " 7   totals                903653 non-null  object\n",
      " 8   trafficSource         903653 non-null  object\n",
      " 9   visitId               903653 non-null  uint16\n",
      " 10  visitNumber           903653 non-null  int16 \n",
      " 11  visitStartTime        903653 non-null  uint16\n",
      "dtypes: int16(2), object(8), uint16(2)\n",
      "memory usage: 62.0+ MB\n"
     ]
    }
   ],
   "source": [
    "train_new_df.info()"
   ]
  },
  {
   "cell_type": "markdown",
   "metadata": {
    "id": "MnQKvvUOguAY"
   },
   "source": [
    "### Creating other file formats"
   ]
  },
  {
   "cell_type": "code",
   "execution_count": 36,
   "metadata": {
    "executionInfo": {
     "elapsed": 1997,
     "status": "ok",
     "timestamp": 1711173717733,
     "user": {
      "displayName": "MANARANJAN PRADHAN",
      "userId": "03885802779803335284"
     },
     "user_tz": -330
    },
    "id": "BjQykrCBQzM3"
   },
   "outputs": [],
   "source": [
    "train_new_df.to_pickle(\"./datasets/train.pkl\")"
   ]
  },
  {
   "cell_type": "code",
   "execution_count": 40,
   "metadata": {},
   "outputs": [
    {
     "name": "stdout",
     "output_type": "stream",
     "text": [
      "sample_submission.csv -> 14.06 MB\n",
      "sigma.zip -> 116.06 MB\n",
      "test.csv -> 1284.45 MB\n",
      "train.csv -> 1433.78 MB\n",
      "train.pkl -> 130.33 MB\n"
     ]
    }
   ],
   "source": [
    "import os\n",
    "\n",
    "# Get all files and their sizes in MB in the 'datasets' folder\n",
    "for filename in os.listdir(\"datasets\"):\n",
    "    file_path = os.path.join(\"datasets\", filename)\n",
    "    if os.path.isfile(file_path):\n",
    "        file_size = os.path.getsize(file_path)  # Get file size in bytes\n",
    "        file_size_mb = file_size / (1024 * 1024)  # Convert bytes to MB\n",
    "        print(f\"{filename} -> {file_size_mb:.2f} MB\")\n",
    "\n",
    "\n"
   ]
  },
  {
   "cell_type": "code",
   "execution_count": null,
   "metadata": {
    "colab": {
     "base_uri": "https://localhost:8080/"
    },
    "executionInfo": {
     "elapsed": 387,
     "status": "ok",
     "timestamp": 1711173722975,
     "user": {
      "displayName": "MANARANJAN PRADHAN",
      "userId": "03885802779803335284"
     },
     "user_tz": -330
    },
    "id": "O5z_S0GOSzXF",
    "outputId": "0fbb988b-ff63-481b-acfe-34cf6ed4dba4"
   },
   "outputs": [],
   "source": [
    "#this is not compatible with windows, so used the command above\n",
    "#ls -al datasets/"
   ]
  },
  {
   "cell_type": "code",
   "execution_count": 43,
   "metadata": {
    "colab": {
     "base_uri": "https://localhost:8080/"
    },
    "id": "3snBWj0kJwka",
    "outputId": "e782afe9-52f2-4ef3-89b8-4f1018e8987b"
   },
   "outputs": [
    {
     "name": "stdout",
     "output_type": "stream",
     "text": [
      "train.pkl -> 130.33 MB\n"
     ]
    }
   ],
   "source": [
    "file_size\n",
    "file_size_mb = file_size / (1024 * 1024)  # Convert bytes to MB\n",
    "file_size_mb\n",
    "print(f\"{filename} -> {file_size_mb:.2f} MB\")"
   ]
  },
  {
   "cell_type": "code",
   "execution_count": 45,
   "metadata": {
    "executionInfo": {
     "elapsed": 6519,
     "status": "ok",
     "timestamp": 1711173756236,
     "user": {
      "displayName": "MANARANJAN PRADHAN",
      "userId": "03885802779803335284"
     },
     "user_tz": -330
    },
    "id": "UvnM4vY5TCRK"
   },
   "outputs": [],
   "source": [
    "train_new_df.to_parquet(\"./datasets/train.parquet\")"
   ]
  },
  {
   "cell_type": "code",
   "execution_count": 47,
   "metadata": {},
   "outputs": [
    {
     "name": "stdout",
     "output_type": "stream",
     "text": [
      "sample_submission.csv -> 14.06 MB\n",
      "sigma.zip -> 116.06 MB\n",
      "test.csv -> 1284.45 MB\n",
      "train.csv -> 1433.78 MB\n",
      "train.parquet -> 85.52 MB\n",
      "train.pkl -> 130.33 MB\n"
     ]
    }
   ],
   "source": [
    "import os\n",
    "\n",
    "# List files and sizes in the 'datasets' folder\n",
    "for filename in os.listdir(\"datasets\"):\n",
    "    file_path = os.path.join(\"datasets\", filename)\n",
    "    if os.path.isfile(file_path):\n",
    "        file_size = os.path.getsize(file_path)  # Get file size in bytes\n",
    "        file_size_mb = file_size / (1024 * 1024)  # Convert to MB\n",
    "        print(f\"{filename} -> {file_size_mb:.2f} MB\")\n"
   ]
  },
  {
   "cell_type": "code",
   "execution_count": null,
   "metadata": {
    "colab": {
     "base_uri": "https://localhost:8080/"
    },
    "executionInfo": {
     "elapsed": 15,
     "status": "ok",
     "timestamp": 1711173756236,
     "user": {
      "displayName": "MANARANJAN PRADHAN",
      "userId": "03885802779803335284"
     },
     "user_tz": -330
    },
    "id": "L6aDiRJUWOb5",
    "outputId": "f5931757-5dc8-4332-eb96-24b7e06c549c"
   },
   "outputs": [],
   "source": [
    "#this is not compatible with windows, so used the command above\n",
    "#!ls -al datasets/"
   ]
  },
  {
   "cell_type": "code",
   "execution_count": 48,
   "metadata": {
    "executionInfo": {
     "elapsed": 8136,
     "status": "ok",
     "timestamp": 1711174490643,
     "user": {
      "displayName": "MANARANJAN PRADHAN",
      "userId": "03885802779803335284"
     },
     "user_tz": -330
    },
    "id": "7i2cRAlpWPIs"
   },
   "outputs": [],
   "source": [
    "train_new_df.to_feather(\"./datasets/train.feather\")"
   ]
  },
  {
   "cell_type": "code",
   "execution_count": 49,
   "metadata": {},
   "outputs": [
    {
     "name": "stdout",
     "output_type": "stream",
     "text": [
      "sample_submission.csv -> 14.06 MB\n",
      "sigma.zip -> 116.06 MB\n",
      "test.csv -> 1284.45 MB\n",
      "train.csv -> 1433.78 MB\n",
      "train.feather -> 100.73 MB\n",
      "train.parquet -> 85.52 MB\n",
      "train.pkl -> 130.33 MB\n"
     ]
    }
   ],
   "source": [
    "import os\n",
    "\n",
    "# List files and sizes in the 'datasets' folder\n",
    "for filename in os.listdir(\"datasets\"):\n",
    "    file_path = os.path.join(\"datasets\", filename)\n",
    "    if os.path.isfile(file_path):\n",
    "        file_size = os.path.getsize(file_path)  # Get file size in bytes\n",
    "        file_size_mb = file_size / (1024 * 1024)  # Convert to MB\n",
    "        print(f\"{filename} -> {file_size_mb:.2f} MB\")\n"
   ]
  },
  {
   "cell_type": "code",
   "execution_count": null,
   "metadata": {
    "colab": {
     "base_uri": "https://localhost:8080/"
    },
    "executionInfo": {
     "elapsed": 4,
     "status": "ok",
     "timestamp": 1711174490644,
     "user": {
      "displayName": "MANARANJAN PRADHAN",
      "userId": "03885802779803335284"
     },
     "user_tz": -330
    },
    "id": "69F-OpbdWWb7",
    "outputId": "6caab43a-1a80-477a-a5fd-68b3a1132a31"
   },
   "outputs": [],
   "source": [
    "#this is not compatible with windows, so used the command above\n",
    "#!ls -al datasets/"
   ]
  },
  {
   "cell_type": "code",
   "execution_count": null,
   "metadata": {
    "id": "_h1u6vO8J29Z"
   },
   "outputs": [],
   "source": [
    "### Comparing file sizes"
   ]
  },
  {
   "cell_type": "code",
   "execution_count": null,
   "metadata": {
    "id": "FEBQN7gFKZFG"
   },
   "outputs": [],
   "source": [
    "##file_size = os.path.getsize('d:/file.jpg')"
   ]
  },
  {
   "cell_type": "code",
   "execution_count": 50,
   "metadata": {
    "executionInfo": {
     "elapsed": 379,
     "status": "ok",
     "timestamp": 1711174493016,
     "user": {
      "displayName": "MANARANJAN PRADHAN",
      "userId": "03885802779803335284"
     },
     "user_tz": -330
    },
    "id": "-G-Gid3kJ5Vn"
   },
   "outputs": [],
   "source": [
    "filenames = ['./datasets/train.csv',\n",
    "             './datasets/train.pkl',\n",
    "             './datasets/train.feather',\n",
    "             './datasets/train.parquet']\n",
    "\n",
    "all_filesizes = [os.path.getsize(f) for f in filenames]\n",
    "\n",
    "filescompare_df = pd.DataFrame( { \"formats\" : filenames,\n",
    "                                  \"filesize\": all_filesizes})"
   ]
  },
  {
   "cell_type": "code",
   "execution_count": 58,
   "metadata": {},
   "outputs": [
    {
     "name": "stdout",
     "output_type": "stream",
     "text": [
      "                Filename  Size_MB\n",
      "0  sample_submission.csv    14.06\n",
      "1              sigma.zip   116.06\n",
      "2               test.csv  1284.45\n",
      "3              train.csv  1433.78\n",
      "4          train.feather   100.73\n",
      "5          train.parquet    85.52\n",
      "6              train.pkl   130.33\n"
     ]
    }
   ],
   "source": [
    "# Define the folder path where the files are located\n",
    "folder_path = \"datasets/\"\n",
    "\n",
    "# Create an empty list to store file info\n",
    "file_info = []\n",
    "\n",
    "# Iterate through all files in the specified folder\n",
    "for filename in os.listdir(folder_path):\n",
    "    file_path = os.path.join(folder_path, filename)\n",
    "    if os.path.isfile(file_path):\n",
    "        # Get file size in bytes\n",
    "        file_size = os.path.getsize(file_path)\n",
    "        \n",
    "        # Convert file size to MB\n",
    "        file_size_mb = file_size / (1024 * 1024)\n",
    "        \n",
    "        # Append the file info to the list\n",
    "        file_info.append({\"Filename\": filename, \"Size_MB\": round(file_size_mb, 2)})\n",
    "\n",
    "# Create a DataFrame from the file info list\n",
    "filescompare_df = pd.DataFrame(file_info)\n",
    "\n",
    "# Display the DataFrame\n",
    "print(filescompare_df)"
   ]
  },
  {
   "cell_type": "code",
   "execution_count": 53,
   "metadata": {
    "colab": {
     "base_uri": "https://localhost:8080/",
     "height": 175
    },
    "executionInfo": {
     "elapsed": 409,
     "status": "ok",
     "timestamp": 1711174520941,
     "user": {
      "displayName": "MANARANJAN PRADHAN",
      "userId": "03885802779803335284"
     },
     "user_tz": -330
    },
    "id": "pJupx-VFKpSl",
    "outputId": "3611c3a5-b648-4079-d910-4921ebb69f6f"
   },
   "outputs": [
    {
     "data": {
      "text/html": [
       "<div>\n",
       "<style scoped>\n",
       "    .dataframe tbody tr th:only-of-type {\n",
       "        vertical-align: middle;\n",
       "    }\n",
       "\n",
       "    .dataframe tbody tr th {\n",
       "        vertical-align: top;\n",
       "    }\n",
       "\n",
       "    .dataframe thead th {\n",
       "        text-align: right;\n",
       "    }\n",
       "</style>\n",
       "<table border=\"1\" class=\"dataframe\">\n",
       "  <thead>\n",
       "    <tr style=\"text-align: right;\">\n",
       "      <th></th>\n",
       "      <th>formats</th>\n",
       "      <th>filesize</th>\n",
       "    </tr>\n",
       "  </thead>\n",
       "  <tbody>\n",
       "    <tr>\n",
       "      <th>0</th>\n",
       "      <td>./datasets/train.csv</td>\n",
       "      <td>1503430926</td>\n",
       "    </tr>\n",
       "    <tr>\n",
       "      <th>1</th>\n",
       "      <td>./datasets/train.pkl</td>\n",
       "      <td>136662990</td>\n",
       "    </tr>\n",
       "    <tr>\n",
       "      <th>2</th>\n",
       "      <td>./datasets/train.feather</td>\n",
       "      <td>105618330</td>\n",
       "    </tr>\n",
       "    <tr>\n",
       "      <th>3</th>\n",
       "      <td>./datasets/train.parquet</td>\n",
       "      <td>89669215</td>\n",
       "    </tr>\n",
       "  </tbody>\n",
       "</table>\n",
       "</div>"
      ],
      "text/plain": [
       "                    formats    filesize\n",
       "0      ./datasets/train.csv  1503430926\n",
       "1      ./datasets/train.pkl   136662990\n",
       "2  ./datasets/train.feather   105618330\n",
       "3  ./datasets/train.parquet    89669215"
      ]
     },
     "execution_count": 53,
     "metadata": {},
     "output_type": "execute_result"
    }
   ],
   "source": [
    "filescompare_df"
   ]
  },
  {
   "cell_type": "code",
   "execution_count": 59,
   "metadata": {
    "executionInfo": {
     "elapsed": 1458,
     "status": "ok",
     "timestamp": 1711174524854,
     "user": {
      "displayName": "MANARANJAN PRADHAN",
      "userId": "03885802779803335284"
     },
     "user_tz": -330
    },
    "id": "Z_MVfF1fNQv-"
   },
   "outputs": [],
   "source": [
    "import matplotlib.pyplot as plt\n",
    "import seaborn as sn"
   ]
  },
  {
   "cell_type": "code",
   "execution_count": 61,
   "metadata": {},
   "outputs": [
    {
     "data": {
      "image/png": "[encoded data removed]",
      "text/plain": [
       "<Figure size 1500x500 with 1 Axes>"
      ]
     },
     "metadata": {},
     "output_type": "display_data"
    }
   ],
   "source": [
    "import os\n",
    "import pandas as pd\n",
    "import seaborn as sn\n",
    "import matplotlib.pyplot as plt\n",
    "\n",
    "# Define the folder path where the files are located\n",
    "folder_path = \"datasets/\"\n",
    "\n",
    "# Create an empty list to store file info\n",
    "file_info = []\n",
    "\n",
    "# Iterate through all files in the specified folder\n",
    "for filename in os.listdir(folder_path):\n",
    "    file_path = os.path.join(folder_path, filename)\n",
    "    if os.path.isfile(file_path):\n",
    "        # Get file size in bytes\n",
    "        file_size = os.path.getsize(file_path)\n",
    "        \n",
    "        # Convert file size to MB\n",
    "        file_size_mb = file_size / (1024 * 1024)\n",
    "        \n",
    "        # Extract file extension (format)\n",
    "        file_format = os.path.splitext(filename)[1][1:]  # Strip the leading dot\n",
    "        \n",
    "        # Append the file info to the list\n",
    "        file_info.append({\"Filename\": filename, \"Size_MB\": round(file_size_mb, 2), \"Formats\": file_format})\n",
    "\n",
    "# Create a DataFrame from the file info list\n",
    "filescompare_df = pd.DataFrame(file_info)\n",
    "\n",
    "# Create the barplot\n",
    "plt.figure(figsize=(15, 5))\n",
    "sn.barplot(data=filescompare_df, x='Formats', y='Size_MB')\n",
    "\n",
    "# Show the plot\n",
    "plt.show()\n"
   ]
  },
  {
   "cell_type": "code",
   "execution_count": null,
   "metadata": {
    "colab": {
     "base_uri": "https://localhost:8080/",
     "height": 349
    },
    "executionInfo": {
     "elapsed": 694,
     "status": "ok",
     "timestamp": 1711174525546,
     "user": {
      "displayName": "MANARANJAN PRADHAN",
      "userId": "03885802779803335284"
     },
     "user_tz": -330
    },
    "id": "inP_9hDJNSuX",
    "outputId": "717fe41c-bd8b-4aca-f97b-63bfdcd314a9"
   },
   "outputs": [],
   "source": [
    "# this isnt working,so used the above syntax for the plot\n",
    "plt.figure( figsize = (15, 5) )\n",
    "sn.barplot( data = filescompare_df,\n",
    "           x = 'formats',\n",
    "           y = 'filesize');"
   ]
  },
  {
   "cell_type": "markdown",
   "metadata": {
    "id": "gUQ14AJrnIGb"
   },
   "source": [
    "### Read time benchmarking of different formats"
   ]
  },
  {
   "cell_type": "code",
   "execution_count": 63,
   "metadata": {
    "colab": {
     "base_uri": "https://localhost:8080/"
    },
    "executionInfo": {
     "elapsed": 3483,
     "status": "ok",
     "timestamp": 1711174552789,
     "user": {
      "displayName": "MANARANJAN PRADHAN",
      "userId": "03885802779803335284"
     },
     "user_tz": -330
    },
    "id": "V-SLEvE6WYna",
    "outputId": "a1e6c741-391c-4c3a-f30d-a901d22b979b"
   },
   "outputs": [
    {
     "name": "stdout",
     "output_type": "stream",
     "text": [
      "CPU times: total: 219 ms\n",
      "Wall time: 830 ms\n"
     ]
    }
   ],
   "source": [
    "%%time\n",
    "\n",
    "train_pkl_df = pd.read_pickle(\"./datasets/train.pkl\")"
   ]
  },
  {
   "cell_type": "code",
   "execution_count": 64,
   "metadata": {
    "colab": {
     "base_uri": "https://localhost:8080/"
    },
    "executionInfo": {
     "elapsed": 5278,
     "status": "ok",
     "timestamp": 1711174570862,
     "user": {
      "displayName": "MANARANJAN PRADHAN",
      "userId": "03885802779803335284"
     },
     "user_tz": -330
    },
    "id": "IM49bgBjWh5h",
    "outputId": "07a92657-97cc-43a2-853b-6cbd98927084"
   },
   "outputs": [
    {
     "name": "stdout",
     "output_type": "stream",
     "text": [
      "CPU times: total: 1.23 s\n",
      "Wall time: 2.01 s\n"
     ]
    }
   ],
   "source": [
    "%%time\n",
    "\n",
    "train_feather_df = pd.read_feather(\"./datasets/train.feather\")"
   ]
  },
  {
   "cell_type": "code",
   "execution_count": 65,
   "metadata": {
    "colab": {
     "base_uri": "https://localhost:8080/"
    },
    "id": "ck6pH7oCWrlG",
    "outputId": "1db6c101-a6fb-4090-f730-3f8fcc5f16dc"
   },
   "outputs": [
    {
     "data": {
      "text/plain": [
       "(903653, 12)"
      ]
     },
     "execution_count": 65,
     "metadata": {},
     "output_type": "execute_result"
    }
   ],
   "source": [
    "train_feather_df.shape"
   ]
  },
  {
   "cell_type": "code",
   "execution_count": 66,
   "metadata": {
    "colab": {
     "base_uri": "https://localhost:8080/"
    },
    "executionInfo": {
     "elapsed": 5940,
     "status": "ok",
     "timestamp": 1711174576789,
     "user": {
      "displayName": "MANARANJAN PRADHAN",
      "userId": "03885802779803335284"
     },
     "user_tz": -330
    },
    "id": "ePnu9eQNWvE_",
    "outputId": "e84f55da-6b90-494c-de86-5ab04f7e5b2e"
   },
   "outputs": [
    {
     "name": "stdout",
     "output_type": "stream",
     "text": [
      "CPU times: total: 2.3 s\n",
      "Wall time: 2.69 s\n"
     ]
    }
   ],
   "source": [
    "%%time\n",
    "\n",
    "train_parquet_df = pd.read_parquet(\"./datasets/train.parquet\")"
   ]
  },
  {
   "cell_type": "code",
   "execution_count": 27,
   "metadata": {
    "colab": {
     "base_uri": "https://localhost:8080/"
    },
    "executionInfo": {
     "elapsed": 31847,
     "status": "ok",
     "timestamp": 1711174805696,
     "user": {
      "displayName": "MANARANJAN PRADHAN",
      "userId": "03885802779803335284"
     },
     "user_tz": -330
    },
    "id": "zDLLU-plLK0a",
    "outputId": "50c36347-79b5-4d0c-bc36-e4a4df6df753"
   },
   "outputs": [
    {
     "name": "stderr",
     "output_type": "stream",
     "text": [
      "<ipython-input-27-c25f037f806d>:4: DtypeWarning: Columns (3) have mixed types. Specify dtype option on import or set low_memory=False.\n",
      "  train_df = pd.read_csv(\"./datasets/train.csv\")\n"
     ]
    }
   ],
   "source": [
    "import time\n",
    "\n",
    "t1 = time.perf_counter()\n",
    "train_df = pd.read_csv(\"./datasets/train.csv\")\n",
    "time_csv = time.perf_counter() - t1\n",
    "\n",
    "t1 = time.perf_counter()\n",
    "train_pkl_df = pd.read_pickle(\"./datasets/train.pkl\")\n",
    "time_pkl = time.perf_counter() - t1\n",
    "\n",
    "t1 = time.perf_counter()\n",
    "train_feather_df = pd.read_feather(\"./datasets/train.feather\")\n",
    "time_feather = time.perf_counter() - t1\n",
    "\n",
    "t1 = time.perf_counter()\n",
    "train_parquet_df = pd.read_parquet(\"./datasets/train.parquet\")\n",
    "time_parquet = time.perf_counter() - t1"
   ]
  },
  {
   "cell_type": "code",
   "execution_count": 28,
   "metadata": {
    "executionInfo": {
     "elapsed": 5,
     "status": "ok",
     "timestamp": 1711174805696,
     "user": {
      "displayName": "MANARANJAN PRADHAN",
      "userId": "03885802779803335284"
     },
     "user_tz": -330
    },
    "id": "oBnfcagSNASZ"
   },
   "outputs": [],
   "source": [
    "filescompare_df['read_time'] = [time_csv, time_pkl, time_feather, time_parquet]"
   ]
  },
  {
   "cell_type": "code",
   "execution_count": 29,
   "metadata": {
    "colab": {
     "base_uri": "https://localhost:8080/",
     "height": 175
    },
    "executionInfo": {
     "elapsed": 5,
     "status": "ok",
     "timestamp": 1711174805696,
     "user": {
      "displayName": "MANARANJAN PRADHAN",
      "userId": "03885802779803335284"
     },
     "user_tz": -330
    },
    "id": "YdR1rq93NOEh",
    "outputId": "c23513d0-5b91-40ec-b408-151a323c23ca"
   },
   "outputs": [
    {
     "data": {
      "application/vnd.google.colaboratory.intrinsic+json": {
       "summary": "{\n  \"name\": \"filescompare_df\",\n  \"rows\": 4,\n  \"fields\": [\n    {\n      \"column\": \"formats\",\n      \"properties\": {\n        \"dtype\": \"string\",\n        \"num_unique_values\": 4,\n        \"samples\": [\n          \"./datasets/train.pkl\",\n          \"./datasets/train.parquet\",\n          \"./datasets/train.csv\"\n        ],\n        \"semantic_type\": \"\",\n        \"description\": \"\"\n      }\n    },\n    {\n      \"column\": \"filesize\",\n      \"properties\": {\n        \"dtype\": \"number\",\n        \"std\": 696663679,\n        \"min\": 89669215,\n        \"max\": 1503430926,\n        \"num_unique_values\": 4,\n        \"samples\": [\n          136662990,\n          89669215,\n          1503430926\n        ],\n        \"semantic_type\": \"\",\n        \"description\": \"\"\n      }\n    },\n    {\n      \"column\": \"read_time\",\n      \"properties\": {\n        \"dtype\": \"number\",\n        \"std\": 7.8482951340194145,\n        \"min\": 1.5702384150001762,\n        \"max\": 19.28475310099998,\n        \"num_unique_values\": 4,\n        \"samples\": [\n          1.5702384150001762,\n          5.751832470999943,\n          19.28475310099998\n        ],\n        \"semantic_type\": \"\",\n        \"description\": \"\"\n      }\n    }\n  ]\n}",
       "type": "dataframe",
       "variable_name": "filescompare_df"
      },
      "text/html": [
       "\n",
       "  <div id=\"df-5d4c7532-30d0-4e65-b2b2-f37e5152b392\" class=\"colab-df-container\">\n",
       "    <div>\n",
       "<style scoped>\n",
       "    .dataframe tbody tr th:only-of-type {\n",
       "        vertical-align: middle;\n",
       "    }\n",
       "\n",
       "    .dataframe tbody tr th {\n",
       "        vertical-align: top;\n",
       "    }\n",
       "\n",
       "    .dataframe thead th {\n",
       "        text-align: right;\n",
       "    }\n",
       "</style>\n",
       "<table border=\"1\" class=\"dataframe\">\n",
       "  <thead>\n",
       "    <tr style=\"text-align: right;\">\n",
       "      <th></th>\n",
       "      <th>formats</th>\n",
       "      <th>filesize</th>\n",
       "      <th>read_time</th>\n",
       "    </tr>\n",
       "  </thead>\n",
       "  <tbody>\n",
       "    <tr>\n",
       "      <th>0</th>\n",
       "      <td>./datasets/train.csv</td>\n",
       "      <td>1503430926</td>\n",
       "      <td>19.284753</td>\n",
       "    </tr>\n",
       "    <tr>\n",
       "      <th>1</th>\n",
       "      <td>./datasets/train.pkl</td>\n",
       "      <td>136662990</td>\n",
       "      <td>1.570238</td>\n",
       "    </tr>\n",
       "    <tr>\n",
       "      <th>2</th>\n",
       "      <td>./datasets/train.feather</td>\n",
       "      <td>105618330</td>\n",
       "      <td>4.656160</td>\n",
       "    </tr>\n",
       "    <tr>\n",
       "      <th>3</th>\n",
       "      <td>./datasets/train.parquet</td>\n",
       "      <td>89669215</td>\n",
       "      <td>5.751832</td>\n",
       "    </tr>\n",
       "  </tbody>\n",
       "</table>\n",
       "</div>\n",
       "    <div class=\"colab-df-buttons\">\n",
       "\n",
       "  <div class=\"colab-df-container\">\n",
       "    <button class=\"colab-df-convert\" onclick=\"convertToInteractive('df-5d4c7532-30d0-4e65-b2b2-f37e5152b392')\"\n",
       "            title=\"Convert this dataframe to an interactive table.\"\n",
       "            style=\"display:none;\">\n",
       "\n",
       "  <svg xmlns=\"http://www.w3.org/2000/svg\" height=\"24px\" viewBox=\"0 -960 960 960\">\n",
       "    <path d=\"M120-120v-720h720v720H120Zm60-500h600v-160H180v160Zm220 220h160v-160H400v160Zm0 220h160v-160H400v160ZM180-400h160v-160H180v160Zm440 0h160v-160H620v160ZM180-180h160v-160H180v160Zm440 0h160v-160H620v160Z\"/>\n",
       "  </svg>\n",
       "    </button>\n",
       "\n",
       "  <style>\n",
       "    .colab-df-container {\n",
       "      display:flex;\n",
       "      gap: 12px;\n",
       "    }\n",
       "\n",
       "    .colab-df-convert {\n",
       "      background-color: #E8F0FE;\n",
       "      border: none;\n",
       "      border-radius: 50%;\n",
       "      cursor: pointer;\n",
       "      display: none;\n",
       "      fill: #1967D2;\n",
       "      height: 32px;\n",
       "      padding: 0 0 0 0;\n",
       "      width: 32px;\n",
       "    }\n",
       "\n",
       "    .colab-df-convert:hover {\n",
       "      background-color: #E2EBFA;\n",
       "      box-shadow: 0px 1px 2px rgba(60, 64, 67, 0.3), 0px 1px 3px 1px rgba(60, 64, 67, 0.15);\n",
       "      fill: #174EA6;\n",
       "    }\n",
       "\n",
       "    .colab-df-buttons div {\n",
       "      margin-bottom: 4px;\n",
       "    }\n",
       "\n",
       "    [theme=dark] .colab-df-convert {\n",
       "      background-color: #3B4455;\n",
       "      fill: #D2E3FC;\n",
       "    }\n",
       "\n",
       "    [theme=dark] .colab-df-convert:hover {\n",
       "      background-color: #434B5C;\n",
       "      box-shadow: 0px 1px 3px 1px rgba(0, 0, 0, 0.15);\n",
       "      filter: drop-shadow(0px 1px 2px rgba(0, 0, 0, 0.3));\n",
       "      fill: #FFFFFF;\n",
       "    }\n",
       "  </style>\n",
       "\n",
       "    <script>\n",
       "      const buttonEl =\n",
       "        document.querySelector('#df-5d4c7532-30d0-4e65-b2b2-f37e5152b392 button.colab-df-convert');\n",
       "      buttonEl.style.display =\n",
       "        google.colab.kernel.accessAllowed ? 'block' : 'none';\n",
       "\n",
       "      async function convertToInteractive(key) {\n",
       "        const element = document.querySelector('#df-5d4c7532-30d0-4e65-b2b2-f37e5152b392');\n",
       "        const dataTable =\n",
       "          await google.colab.kernel.invokeFunction('convertToInteractive',\n",
       "                                                    [key], {});\n",
       "        if (!dataTable) return;\n",
       "\n",
       "        const docLinkHtml = 'Like what you see? Visit the ' +\n",
       "          '<a target=\"_blank\" href=https://colab.research.google.com/notebooks/data_table.ipynb>data table notebook</a>'\n",
       "          + ' to learn more about interactive tables.';\n",
       "        element.innerHTML = '';\n",
       "        dataTable['output_type'] = 'display_data';\n",
       "        await google.colab.output.renderOutput(dataTable, element);\n",
       "        const docLink = document.createElement('div');\n",
       "        docLink.innerHTML = docLinkHtml;\n",
       "        element.appendChild(docLink);\n",
       "      }\n",
       "    </script>\n",
       "  </div>\n",
       "\n",
       "\n",
       "<div id=\"df-3e858ff0-77d5-43ff-bd03-ccf04a50647d\">\n",
       "  <button class=\"colab-df-quickchart\" onclick=\"quickchart('df-3e858ff0-77d5-43ff-bd03-ccf04a50647d')\"\n",
       "            title=\"Suggest charts\"\n",
       "            style=\"display:none;\">\n",
       "\n",
       "<svg xmlns=\"http://www.w3.org/2000/svg\" height=\"24px\"viewBox=\"0 0 24 24\"\n",
       "     width=\"24px\">\n",
       "    <g>\n",
       "        <path d=\"M19 3H5c-1.1 0-2 .9-2 2v14c0 1.1.9 2 2 2h14c1.1 0 2-.9 2-2V5c0-1.1-.9-2-2-2zM9 17H7v-7h2v7zm4 0h-2V7h2v10zm4 0h-2v-4h2v4z\"/>\n",
       "    </g>\n",
       "</svg>\n",
       "  </button>\n",
       "\n",
       "<style>\n",
       "  .colab-df-quickchart {\n",
       "      --bg-color: #E8F0FE;\n",
       "      --fill-color: #1967D2;\n",
       "      --hover-bg-color: #E2EBFA;\n",
       "      --hover-fill-color: #174EA6;\n",
       "      --disabled-fill-color: #AAA;\n",
       "      --disabled-bg-color: #DDD;\n",
       "  }\n",
       "\n",
       "  [theme=dark] .colab-df-quickchart {\n",
       "      --bg-color: #3B4455;\n",
       "      --fill-color: #D2E3FC;\n",
       "      --hover-bg-color: #434B5C;\n",
       "      --hover-fill-color: #FFFFFF;\n",
       "      --disabled-bg-color: #3B4455;\n",
       "      --disabled-fill-color: #666;\n",
       "  }\n",
       "\n",
       "  .colab-df-quickchart {\n",
       "    background-color: var(--bg-color);\n",
       "    border: none;\n",
       "    border-radius: 50%;\n",
       "    cursor: pointer;\n",
       "    display: none;\n",
       "    fill: var(--fill-color);\n",
       "    height: 32px;\n",
       "    padding: 0;\n",
       "    width: 32px;\n",
       "  }\n",
       "\n",
       "  .colab-df-quickchart:hover {\n",
       "    background-color: var(--hover-bg-color);\n",
       "    box-shadow: 0 1px 2px rgba(60, 64, 67, 0.3), 0 1px 3px 1px rgba(60, 64, 67, 0.15);\n",
       "    fill: var(--button-hover-fill-color);\n",
       "  }\n",
       "\n",
       "  .colab-df-quickchart-complete:disabled,\n",
       "  .colab-df-quickchart-complete:disabled:hover {\n",
       "    background-color: var(--disabled-bg-color);\n",
       "    fill: var(--disabled-fill-color);\n",
       "    box-shadow: none;\n",
       "  }\n",
       "\n",
       "  .colab-df-spinner {\n",
       "    border: 2px solid var(--fill-color);\n",
       "    border-color: transparent;\n",
       "    border-bottom-color: var(--fill-color);\n",
       "    animation:\n",
       "      spin 1s steps(1) infinite;\n",
       "  }\n",
       "\n",
       "  @keyframes spin {\n",
       "    0% {\n",
       "      border-color: transparent;\n",
       "      border-bottom-color: var(--fill-color);\n",
       "      border-left-color: var(--fill-color);\n",
       "    }\n",
       "    20% {\n",
       "      border-color: transparent;\n",
       "      border-left-color: var(--fill-color);\n",
       "      border-top-color: var(--fill-color);\n",
       "    }\n",
       "    30% {\n",
       "      border-color: transparent;\n",
       "      border-left-color: var(--fill-color);\n",
       "      border-top-color: var(--fill-color);\n",
       "      border-right-color: var(--fill-color);\n",
       "    }\n",
       "    40% {\n",
       "      border-color: transparent;\n",
       "      border-right-color: var(--fill-color);\n",
       "      border-top-color: var(--fill-color);\n",
       "    }\n",
       "    60% {\n",
       "      border-color: transparent;\n",
       "      border-right-color: var(--fill-color);\n",
       "    }\n",
       "    80% {\n",
       "      border-color: transparent;\n",
       "      border-right-color: var(--fill-color);\n",
       "      border-bottom-color: var(--fill-color);\n",
       "    }\n",
       "    90% {\n",
       "      border-color: transparent;\n",
       "      border-bottom-color: var(--fill-color);\n",
       "    }\n",
       "  }\n",
       "</style>\n",
       "\n",
       "  <script>\n",
       "    async function quickchart(key) {\n",
       "      const quickchartButtonEl =\n",
       "        document.querySelector('#' + key + ' button');\n",
       "      quickchartButtonEl.disabled = true;  // To prevent multiple clicks.\n",
       "      quickchartButtonEl.classList.add('colab-df-spinner');\n",
       "      try {\n",
       "        const charts = await google.colab.kernel.invokeFunction(\n",
       "            'suggestCharts', [key], {});\n",
       "      } catch (error) {\n",
       "        console.error('Error during call to suggestCharts:', error);\n",
       "      }\n",
       "      quickchartButtonEl.classList.remove('colab-df-spinner');\n",
       "      quickchartButtonEl.classList.add('colab-df-quickchart-complete');\n",
       "    }\n",
       "    (() => {\n",
       "      let quickchartButtonEl =\n",
       "        document.querySelector('#df-3e858ff0-77d5-43ff-bd03-ccf04a50647d button');\n",
       "      quickchartButtonEl.style.display =\n",
       "        google.colab.kernel.accessAllowed ? 'block' : 'none';\n",
       "    })();\n",
       "  </script>\n",
       "</div>\n",
       "    </div>\n",
       "  </div>\n"
      ],
      "text/plain": [
       "                    formats    filesize  read_time\n",
       "0      ./datasets/train.csv  1503430926  19.284753\n",
       "1      ./datasets/train.pkl   136662990   1.570238\n",
       "2  ./datasets/train.feather   105618330   4.656160\n",
       "3  ./datasets/train.parquet    89669215   5.751832"
      ]
     },
     "execution_count": 29,
     "metadata": {},
     "output_type": "execute_result"
    }
   ],
   "source": [
    "filescompare_df"
   ]
  },
  {
   "cell_type": "code",
   "execution_count": 30,
   "metadata": {
    "colab": {
     "base_uri": "https://localhost:8080/",
     "height": 337
    },
    "executionInfo": {
     "elapsed": 881,
     "status": "ok",
     "timestamp": 1711174806573,
     "user": {
      "displayName": "MANARANJAN PRADHAN",
      "userId": "03885802779803335284"
     },
     "user_tz": -330
    },
    "id": "jfxlo532NZB-",
    "outputId": "6c20a64e-2eac-4716-8fc6-2319634f3756"
   },
   "outputs": [
    {
     "data": {
      "image/png": "[encoded data removed]",
      "text/plain": [
       "<Figure size 1500x500 with 1 Axes>"
      ]
     },
     "metadata": {},
     "output_type": "display_data"
    }
   ],
   "source": [
    "plt.figure( figsize = (15, 5) )\n",
    "sn.barplot( data = filescompare_df,\n",
    "           x = 'formats',\n",
    "           y = 'read_time');"
   ]
  },
  {
   "cell_type": "markdown",
   "metadata": {
    "id": "7IZbpZdmZiMB"
   },
   "source": [
    "## Frameworks\n",
    "\n",
    "- datatable (https://datatable.readthedocs.io/en/latest/index.html)\n",
    "- dask"
   ]
  },
  {
   "cell_type": "code",
   "execution_count": null,
   "metadata": {
    "colab": {
     "base_uri": "https://localhost:8080/"
    },
    "id": "SqjjOEcIWy1o",
    "outputId": "8eff8852-61fc-4761-ed65-60377722ed18"
   },
   "outputs": [
    {
     "name": "stdout",
     "output_type": "stream",
     "text": [
      "Collecting datatable\n",
      "  Downloading datatable-1.0.0-cp37-cp37m-manylinux_2_12_x86_64.whl (96.9 MB)\n",
      "\u001b[K     |████████████████████████████████| 96.9 MB 101 kB/s \n",
      "\u001b[?25hInstalling collected packages: datatable\n",
      "Successfully installed datatable-1.0.0\n"
     ]
    }
   ],
   "source": [
    "!pip install datatable"
   ]
  },
  {
   "cell_type": "code",
   "execution_count": null,
   "metadata": {
    "colab": {
     "base_uri": "https://localhost:8080/",
     "height": 35
    },
    "id": "chsWvs3PaLvQ",
    "outputId": "ace69966-1a6e-4b48-a9dc-cc98f9644016"
   },
   "outputs": [
    {
     "data": {
      "text/html": [
       "<style type='text/css'>\n",
       ".datatable table.frame { margin-bottom: 0; }\n",
       ".datatable table.frame thead { border-bottom: none; }\n",
       ".datatable table.frame tr.coltypes td {  color: #FFFFFF;  line-height: 6px;  padding: 0 0.5em;}\n",
       ".datatable .bool    { background: #DDDD99; }\n",
       ".datatable .object  { background: #565656; }\n",
       ".datatable .int     { background: #5D9E5D; }\n",
       ".datatable .float   { background: #4040CC; }\n",
       ".datatable .str     { background: #CC4040; }\n",
       ".datatable .time    { background: #40CC40; }\n",
       ".datatable .row_index {  background: var(--jp-border-color3);  border-right: 1px solid var(--jp-border-color0);  color: var(--jp-ui-font-color3);  font-size: 9px;}\n",
       ".datatable .frame tbody td { text-align: left; }\n",
       ".datatable .frame tr.coltypes .row_index {  background: var(--jp-border-color0);}\n",
       ".datatable th:nth-child(2) { padding-left: 12px; }\n",
       ".datatable .hellipsis {  color: var(--jp-cell-editor-border-color);}\n",
       ".datatable .vellipsis {  background: var(--jp-layout-color0);  color: var(--jp-cell-editor-border-color);}\n",
       ".datatable .na {  color: var(--jp-cell-editor-border-color);  font-size: 80%;}\n",
       ".datatable .sp {  opacity: 0.25;}\n",
       ".datatable .footer { font-size: 9px; }\n",
       ".datatable .frame_dimensions {  background: var(--jp-border-color3);  border-top: 1px solid var(--jp-border-color0);  color: var(--jp-ui-font-color3);  display: inline-block;  opacity: 0.6;  padding: 1px 10px 1px 5px;}\n",
       "</style>\n"
      ],
      "text/plain": [
       "<IPython.core.display.HTML object>"
      ]
     },
     "metadata": {},
     "output_type": "display_data"
    },
    {
     "name": "stdout",
     "output_type": "stream",
     "text": [
      "1.0.0\n"
     ]
    }
   ],
   "source": [
    "import datatable as dt\n",
    "print(dt.__version__)"
   ]
  },
  {
   "cell_type": "code",
   "execution_count": null,
   "metadata": {
    "colab": {
     "base_uri": "https://localhost:8080/"
    },
    "id": "B1nmiBZGaP_G",
    "outputId": "ffb39021-8230-47a9-8d71-b0228375d466"
   },
   "outputs": [
    {
     "name": "stdout",
     "output_type": "stream",
     "text": [
      "CPU times: user 10.4 s, sys: 1.41 s, total: 11.8 s\n",
      "Wall time: 6.12 s\n"
     ]
    }
   ],
   "source": [
    "%%time\n",
    "\n",
    "train_dtable = dt.fread(\"./datasets/train.csv\")"
   ]
  },
  {
   "cell_type": "code",
   "execution_count": null,
   "metadata": {
    "colab": {
     "base_uri": "https://localhost:8080/",
     "height": 475
    },
    "id": "_meLEu_ziWit",
    "outputId": "9d37d615-d777-4a0d-ec45-ecdff1205dad"
   },
   "outputs": [
    {
     "data": {
      "text/html": [
       "<div>\n",
       "<style scoped>\n",
       "    .dataframe tbody tr th:only-of-type {\n",
       "        vertical-align: middle;\n",
       "    }\n",
       "\n",
       "    .dataframe tbody tr th {\n",
       "        vertical-align: top;\n",
       "    }\n",
       "\n",
       "    .dataframe thead th {\n",
       "        text-align: right;\n",
       "    }\n",
       "</style>\n",
       "<table border=\"1\" class=\"dataframe\">\n",
       "  <thead>\n",
       "    <tr style=\"text-align: right;\">\n",
       "      <th></th>\n",
       "      <th>channelGrouping</th>\n",
       "      <th>date</th>\n",
       "      <th>device</th>\n",
       "      <th>fullVisitorId</th>\n",
       "      <th>geoNetwork</th>\n",
       "      <th>sessionId</th>\n",
       "      <th>socialEngagementType</th>\n",
       "      <th>totals</th>\n",
       "      <th>trafficSource</th>\n",
       "      <th>visitId</th>\n",
       "      <th>visitNumber</th>\n",
       "      <th>visitStartTime</th>\n",
       "    </tr>\n",
       "  </thead>\n",
       "  <tbody>\n",
       "    <tr>\n",
       "      <th>0</th>\n",
       "      <td>Organic Search</td>\n",
       "      <td>20160902</td>\n",
       "      <td>{\"browser\": \"Chrome\", \"browserVersion\": \"not a...</td>\n",
       "      <td>1131660440785968503</td>\n",
       "      <td>{\"continent\": \"Asia\", \"subContinent\": \"Western...</td>\n",
       "      <td>1131660440785968503_1472830385</td>\n",
       "      <td>Not Socially Engaged</td>\n",
       "      <td>{\"visits\": \"1\", \"hits\": \"1\", \"pageviews\": \"1\",...</td>\n",
       "      <td>{\"campaign\": \"(not set)\", \"source\": \"google\", ...</td>\n",
       "      <td>1472830385</td>\n",
       "      <td>1</td>\n",
       "      <td>1472830385</td>\n",
       "    </tr>\n",
       "    <tr>\n",
       "      <th>1</th>\n",
       "      <td>Organic Search</td>\n",
       "      <td>20160902</td>\n",
       "      <td>{\"browser\": \"Firefox\", \"browserVersion\": \"not ...</td>\n",
       "      <td>377306020877927890</td>\n",
       "      <td>{\"continent\": \"Oceania\", \"subContinent\": \"Aust...</td>\n",
       "      <td>377306020877927890_1472880147</td>\n",
       "      <td>Not Socially Engaged</td>\n",
       "      <td>{\"visits\": \"1\", \"hits\": \"1\", \"pageviews\": \"1\",...</td>\n",
       "      <td>{\"campaign\": \"(not set)\", \"source\": \"google\", ...</td>\n",
       "      <td>1472880147</td>\n",
       "      <td>1</td>\n",
       "      <td>1472880147</td>\n",
       "    </tr>\n",
       "    <tr>\n",
       "      <th>2</th>\n",
       "      <td>Organic Search</td>\n",
       "      <td>20160902</td>\n",
       "      <td>{\"browser\": \"Chrome\", \"browserVersion\": \"not a...</td>\n",
       "      <td>3895546263509774583</td>\n",
       "      <td>{\"continent\": \"Europe\", \"subContinent\": \"South...</td>\n",
       "      <td>3895546263509774583_1472865386</td>\n",
       "      <td>Not Socially Engaged</td>\n",
       "      <td>{\"visits\": \"1\", \"hits\": \"1\", \"pageviews\": \"1\",...</td>\n",
       "      <td>{\"campaign\": \"(not set)\", \"source\": \"google\", ...</td>\n",
       "      <td>1472865386</td>\n",
       "      <td>1</td>\n",
       "      <td>1472865386</td>\n",
       "    </tr>\n",
       "    <tr>\n",
       "      <th>3</th>\n",
       "      <td>Organic Search</td>\n",
       "      <td>20160902</td>\n",
       "      <td>{\"browser\": \"UC Browser\", \"browserVersion\": \"n...</td>\n",
       "      <td>4763447161404445595</td>\n",
       "      <td>{\"continent\": \"Asia\", \"subContinent\": \"Southea...</td>\n",
       "      <td>4763447161404445595_1472881213</td>\n",
       "      <td>Not Socially Engaged</td>\n",
       "      <td>{\"visits\": \"1\", \"hits\": \"1\", \"pageviews\": \"1\",...</td>\n",
       "      <td>{\"campaign\": \"(not set)\", \"source\": \"google\", ...</td>\n",
       "      <td>1472881213</td>\n",
       "      <td>1</td>\n",
       "      <td>1472881213</td>\n",
       "    </tr>\n",
       "    <tr>\n",
       "      <th>4</th>\n",
       "      <td>Organic Search</td>\n",
       "      <td>20160902</td>\n",
       "      <td>{\"browser\": \"Chrome\", \"browserVersion\": \"not a...</td>\n",
       "      <td>27294437909732085</td>\n",
       "      <td>{\"continent\": \"Europe\", \"subContinent\": \"North...</td>\n",
       "      <td>27294437909732085_1472822600</td>\n",
       "      <td>Not Socially Engaged</td>\n",
       "      <td>{\"visits\": \"1\", \"hits\": \"1\", \"pageviews\": \"1\",...</td>\n",
       "      <td>{\"campaign\": \"(not set)\", \"source\": \"google\", ...</td>\n",
       "      <td>1472822600</td>\n",
       "      <td>2</td>\n",
       "      <td>1472822600</td>\n",
       "    </tr>\n",
       "  </tbody>\n",
       "</table>\n",
       "</div>"
      ],
      "text/plain": [
       "  channelGrouping      date  ... visitNumber visitStartTime\n",
       "0  Organic Search  20160902  ...           1     1472830385\n",
       "1  Organic Search  20160902  ...           1     1472880147\n",
       "2  Organic Search  20160902  ...           1     1472865386\n",
       "3  Organic Search  20160902  ...           1     1472881213\n",
       "4  Organic Search  20160902  ...           2     1472822600\n",
       "\n",
       "[5 rows x 12 columns]"
      ]
     },
     "execution_count": 49,
     "metadata": {},
     "output_type": "execute_result"
    }
   ],
   "source": [
    "train_df.head(5)"
   ]
  },
  {
   "cell_type": "code",
   "execution_count": null,
   "metadata": {
    "id": "IzSK8P6Oac9k"
   },
   "outputs": [],
   "source": [
    "train_dtable_df = train_dtable.to_pandas()"
   ]
  },
  {
   "cell_type": "code",
   "execution_count": null,
   "metadata": {
    "colab": {
     "base_uri": "https://localhost:8080/"
    },
    "id": "zhxqM8ujaoIh",
    "outputId": "180bff07-4f37-426a-98a0-1257a5653645"
   },
   "outputs": [
    {
     "name": "stdout",
     "output_type": "stream",
     "text": [
      "<class 'pandas.core.frame.DataFrame'>\n",
      "RangeIndex: 903653 entries, 0 to 903652\n",
      "Data columns (total 12 columns):\n",
      " #   Column                Non-Null Count   Dtype \n",
      "---  ------                --------------   ----- \n",
      " 0   channelGrouping       903653 non-null  object\n",
      " 1   date                  903653 non-null  int32 \n",
      " 2   device                903653 non-null  object\n",
      " 3   fullVisitorId         903653 non-null  object\n",
      " 4   geoNetwork            903653 non-null  object\n",
      " 5   sessionId             903653 non-null  object\n",
      " 6   socialEngagementType  903653 non-null  object\n",
      " 7   totals                903653 non-null  object\n",
      " 8   trafficSource         903653 non-null  object\n",
      " 9   visitId               903653 non-null  int32 \n",
      " 10  visitNumber           903653 non-null  int32 \n",
      " 11  visitStartTime        903653 non-null  int32 \n",
      "dtypes: int32(4), object(8)\n",
      "memory usage: 68.9+ MB\n"
     ]
    }
   ],
   "source": [
    "train_dtable_df.info()"
   ]
  },
  {
   "cell_type": "code",
   "execution_count": null,
   "metadata": {
    "colab": {
     "base_uri": "https://localhost:8080/",
     "height": 1000
    },
    "id": "TOvqx3fPcM2j",
    "outputId": "3fac05c5-f80e-4d9d-e1e8-c5980fab62fc"
   },
   "outputs": [
    {
     "name": "stdout",
     "output_type": "stream",
     "text": [
      "Requirement already satisfied: dask[complete] in /usr/local/lib/python3.7/dist-packages (2.12.0)\n",
      "Collecting partd>=0.3.10\n",
      "  Downloading partd-1.2.0-py3-none-any.whl (19 kB)\n",
      "Requirement already satisfied: toolz>=0.7.3 in /usr/local/lib/python3.7/dist-packages (from dask[complete]) (0.11.1)\n",
      "Collecting fsspec>=0.6.0\n",
      "  Downloading fsspec-2021.8.1-py3-none-any.whl (119 kB)\n",
      "\u001b[K     |████████████████████████████████| 119 kB 3.0 MB/s \n",
      "\u001b[?25hCollecting distributed>=2.0\n",
      "  Downloading distributed-2021.9.0-py3-none-any.whl (779 kB)\n",
      "\u001b[K     |████████████████████████████████| 779 kB 21.3 MB/s \n",
      "\u001b[?25hRequirement already satisfied: numpy>=1.13.0 in /usr/local/lib/python3.7/dist-packages (from dask[complete]) (1.19.5)\n",
      "Requirement already satisfied: pandas>=0.23.0 in /usr/local/lib/python3.7/dist-packages (from dask[complete]) (1.1.5)\n",
      "Requirement already satisfied: cloudpickle>=0.2.1 in /usr/local/lib/python3.7/dist-packages (from dask[complete]) (1.3.0)\n",
      "Requirement already satisfied: bokeh>=1.0.0 in /usr/local/lib/python3.7/dist-packages (from dask[complete]) (2.3.3)\n",
      "Requirement already satisfied: PyYaml in /usr/local/lib/python3.7/dist-packages (from dask[complete]) (3.13)\n",
      "Requirement already satisfied: tornado>=5.1 in /usr/local/lib/python3.7/dist-packages (from bokeh>=1.0.0->dask[complete]) (5.1.1)\n",
      "Requirement already satisfied: python-dateutil>=2.1 in /usr/local/lib/python3.7/dist-packages (from bokeh>=1.0.0->dask[complete]) (2.8.2)\n",
      "Requirement already satisfied: packaging>=16.8 in /usr/local/lib/python3.7/dist-packages (from bokeh>=1.0.0->dask[complete]) (21.0)\n",
      "Requirement already satisfied: typing-extensions>=3.7.4 in /usr/local/lib/python3.7/dist-packages (from bokeh>=1.0.0->dask[complete]) (3.7.4.3)\n",
      "Requirement already satisfied: Jinja2>=2.9 in /usr/local/lib/python3.7/dist-packages (from bokeh>=1.0.0->dask[complete]) (2.11.3)\n",
      "Requirement already satisfied: pillow>=7.1.0 in /usr/local/lib/python3.7/dist-packages (from bokeh>=1.0.0->dask[complete]) (7.1.2)\n",
      "Requirement already satisfied: sortedcontainers!=2.0.0,!=2.0.1 in /usr/local/lib/python3.7/dist-packages (from distributed>=2.0->dask[complete]) (2.4.0)\n",
      "Requirement already satisfied: setuptools in /usr/local/lib/python3.7/dist-packages (from distributed>=2.0->dask[complete]) (57.4.0)\n",
      "  Downloading distributed-2021.8.1-py3-none-any.whl (778 kB)\n",
      "\u001b[K     |████████████████████████████████| 778 kB 31.5 MB/s \n",
      "\u001b[?25h  Downloading distributed-2021.8.0-py3-none-any.whl (776 kB)\n",
      "\u001b[K     |████████████████████████████████| 776 kB 55.8 MB/s \n",
      "\u001b[?25h  Downloading distributed-2021.7.2-py3-none-any.whl (769 kB)\n",
      "\u001b[K     |████████████████████████████████| 769 kB 62.8 MB/s \n",
      "\u001b[?25hRequirement already satisfied: tblib>=1.6.0 in /usr/local/lib/python3.7/dist-packages (from distributed>=2.0->dask[complete]) (1.7.0)\n",
      "Requirement already satisfied: click>=6.6 in /usr/local/lib/python3.7/dist-packages (from distributed>=2.0->dask[complete]) (7.1.2)\n",
      "Collecting cloudpickle>=0.2.1\n",
      "  Downloading cloudpickle-1.6.0-py3-none-any.whl (23 kB)\n",
      "Requirement already satisfied: zict>=0.1.3 in /usr/local/lib/python3.7/dist-packages (from distributed>=2.0->dask[complete]) (2.0.0)\n",
      "Requirement already satisfied: msgpack>=0.6.0 in /usr/local/lib/python3.7/dist-packages (from distributed>=2.0->dask[complete]) (1.0.2)\n",
      "Collecting distributed>=2.0\n",
      "  Downloading distributed-2021.7.1-py3-none-any.whl (766 kB)\n",
      "\u001b[K     |████████████████████████████████| 766 kB 36.1 MB/s \n",
      "\u001b[?25h  Downloading distributed-2021.7.0-py3-none-any.whl (1.0 MB)\n",
      "\u001b[K     |████████████████████████████████| 1.0 MB 29.2 MB/s \n",
      "\u001b[?25h  Downloading distributed-2021.6.2-py3-none-any.whl (722 kB)\n",
      "\u001b[K     |████████████████████████████████| 722 kB 44.1 MB/s \n",
      "\u001b[?25h  Downloading distributed-2021.6.1-py3-none-any.whl (722 kB)\n",
      "\u001b[K     |████████████████████████████████| 722 kB 13.7 MB/s \n",
      "\u001b[?25h  Downloading distributed-2021.6.0-py3-none-any.whl (715 kB)\n",
      "\u001b[K     |████████████████████████████████| 715 kB 44.2 MB/s \n",
      "\u001b[?25h  Downloading distributed-2021.5.1-py3-none-any.whl (705 kB)\n",
      "\u001b[K     |████████████████████████████████| 705 kB 45.5 MB/s \n",
      "\u001b[?25h  Downloading distributed-2021.5.0-py3-none-any.whl (699 kB)\n",
      "\u001b[K     |████████████████████████████████| 699 kB 46.0 MB/s \n",
      "\u001b[?25h  Downloading distributed-2021.4.1-py3-none-any.whl (696 kB)\n",
      "\u001b[K     |████████████████████████████████| 696 kB 41.6 MB/s \n",
      "\u001b[?25h  Downloading distributed-2021.4.0-py3-none-any.whl (684 kB)\n",
      "\u001b[K     |████████████████████████████████| 684 kB 45.2 MB/s \n",
      "\u001b[?25h  Downloading distributed-2021.3.1-py3-none-any.whl (679 kB)\n",
      "\u001b[K     |████████████████████████████████| 679 kB 41.5 MB/s \n",
      "\u001b[?25h  Downloading distributed-2021.3.0-py3-none-any.whl (675 kB)\n",
      "\u001b[K     |████████████████████████████████| 675 kB 50.7 MB/s \n",
      "\u001b[?25h  Downloading distributed-2021.2.0-py3-none-any.whl (675 kB)\n",
      "\u001b[K     |████████████████████████████████| 675 kB 63.0 MB/s \n",
      "\u001b[?25h  Downloading distributed-2021.1.1-py3-none-any.whl (672 kB)\n",
      "\u001b[K     |████████████████████████████████| 672 kB 54.7 MB/s \n",
      "\u001b[?25h  Downloading distributed-2021.1.0-py3-none-any.whl (671 kB)\n",
      "\u001b[K     |████████████████████████████████| 671 kB 46.8 MB/s \n",
      "\u001b[?25h  Downloading distributed-2020.12.0-py3-none-any.whl (669 kB)\n",
      "\u001b[K     |████████████████████████████████| 669 kB 44.7 MB/s \n",
      "\u001b[?25h  Downloading distributed-2.30.1-py3-none-any.whl (656 kB)\n",
      "\u001b[K     |████████████████████████████████| 656 kB 45.2 MB/s \n",
      "\u001b[?25hRequirement already satisfied: psutil>=5.0 in /usr/local/lib/python3.7/dist-packages (from distributed>=2.0->dask[complete]) (5.4.8)\n",
      "Requirement already satisfied: MarkupSafe>=0.23 in /usr/local/lib/python3.7/dist-packages (from Jinja2>=2.9->bokeh>=1.0.0->dask[complete]) (2.0.1)\n",
      "Requirement already satisfied: pyparsing>=2.0.2 in /usr/local/lib/python3.7/dist-packages (from packaging>=16.8->bokeh>=1.0.0->dask[complete]) (2.4.7)\n",
      "Requirement already satisfied: pytz>=2017.2 in /usr/local/lib/python3.7/dist-packages (from pandas>=0.23.0->dask[complete]) (2018.9)\n",
      "Collecting locket\n",
      "  Downloading locket-0.2.1-py2.py3-none-any.whl (4.1 kB)\n",
      "Requirement already satisfied: six>=1.5 in /usr/local/lib/python3.7/dist-packages (from python-dateutil>=2.1->bokeh>=1.0.0->dask[complete]) (1.15.0)\n",
      "Requirement already satisfied: heapdict in /usr/local/lib/python3.7/dist-packages (from zict>=0.1.3->distributed>=2.0->dask[complete]) (1.0.1)\n",
      "Installing collected packages: locket, cloudpickle, partd, fsspec, distributed\n",
      "  Attempting uninstall: cloudpickle\n",
      "    Found existing installation: cloudpickle 1.3.0\n",
      "    Uninstalling cloudpickle-1.3.0:\n",
      "      Successfully uninstalled cloudpickle-1.3.0\n",
      "  Attempting uninstall: distributed\n",
      "    Found existing installation: distributed 1.25.3\n",
      "    Uninstalling distributed-1.25.3:\n",
      "      Successfully uninstalled distributed-1.25.3\n",
      "Successfully installed cloudpickle-1.6.0 distributed-2.30.1 fsspec-2021.8.1 locket-0.2.1 partd-1.2.0\n"
     ]
    },
    {
     "data": {
      "application/vnd.colab-display-data+json": {
       "pip_warning": {
        "packages": [
         "cloudpickle"
        ]
       }
      }
     },
     "metadata": {},
     "output_type": "display_data"
    }
   ],
   "source": [
    "!pip install \"dask[complete]\""
   ]
  },
  {
   "cell_type": "code",
   "execution_count": null,
   "metadata": {
    "id": "IpND8S9FbVx7"
   },
   "outputs": [],
   "source": [
    "import pandas as pd\n",
    "import dask.dataframe as dd"
   ]
  },
  {
   "cell_type": "code",
   "execution_count": null,
   "metadata": {
    "colab": {
     "base_uri": "https://localhost:8080/"
    },
    "id": "6cvq60MTb6zW",
    "outputId": "e8b0952b-1494-46d9-a803-86f11a94d178"
   },
   "outputs": [
    {
     "name": "stdout",
     "output_type": "stream",
     "text": [
      "CPU times: user 2.35 s, sys: 1.55 s, total: 3.9 s\n",
      "Wall time: 3.75 s\n"
     ]
    }
   ],
   "source": [
    "%%time\n",
    "\n",
    "train_dask_df = dd.read_parquet(\"./datasets/train.parquet\").compute()"
   ]
  },
  {
   "cell_type": "code",
   "execution_count": null,
   "metadata": {
    "colab": {
     "base_uri": "https://localhost:8080/"
    },
    "id": "qPtTCxjYcz7d",
    "outputId": "a9e86f6b-f69b-404f-9f4d-51044d6a1ce5"
   },
   "outputs": [
    {
     "name": "stdout",
     "output_type": "stream",
     "text": [
      "<class 'pandas.core.frame.DataFrame'>\n",
      "RangeIndex: 903653 entries, 0 to 903652\n",
      "Data columns (total 12 columns):\n",
      " #   Column                Non-Null Count   Dtype \n",
      "---  ------                --------------   ----- \n",
      " 0   channelGrouping       903653 non-null  object\n",
      " 1   date                  903653 non-null  int64 \n",
      " 2   device                903653 non-null  object\n",
      " 3   fullVisitorId         903653 non-null  object\n",
      " 4   geoNetwork            903653 non-null  object\n",
      " 5   sessionId             903653 non-null  object\n",
      " 6   socialEngagementType  903653 non-null  object\n",
      " 7   totals                903653 non-null  object\n",
      " 8   trafficSource         903653 non-null  object\n",
      " 9   visitId               903653 non-null  int32 \n",
      " 10  visitNumber           903653 non-null  int16 \n",
      " 11  visitStartTime        903653 non-null  int32 \n",
      "dtypes: int16(1), int32(2), int64(1), object(8)\n",
      "memory usage: 70.7+ MB\n"
     ]
    }
   ],
   "source": [
    "train_dask_df.info()"
   ]
  },
  {
   "cell_type": "code",
   "execution_count": null,
   "metadata": {
    "colab": {
     "base_uri": "https://localhost:8080/",
     "height": 485
    },
    "id": "EmdWT-mRc4Sl",
    "outputId": "d982bf26-7ce6-4731-f311-8c456b65aea7"
   },
   "outputs": [
    {
     "data": {
      "text/html": [
       "<div>\n",
       "<style scoped>\n",
       "    .dataframe tbody tr th:only-of-type {\n",
       "        vertical-align: middle;\n",
       "    }\n",
       "\n",
       "    .dataframe tbody tr th {\n",
       "        vertical-align: top;\n",
       "    }\n",
       "\n",
       "    .dataframe thead th {\n",
       "        text-align: right;\n",
       "    }\n",
       "</style>\n",
       "<table border=\"1\" class=\"dataframe\">\n",
       "  <thead>\n",
       "    <tr style=\"text-align: right;\">\n",
       "      <th></th>\n",
       "      <th>channelGrouping</th>\n",
       "      <th>date</th>\n",
       "      <th>device</th>\n",
       "      <th>fullVisitorId</th>\n",
       "      <th>geoNetwork</th>\n",
       "      <th>sessionId</th>\n",
       "      <th>socialEngagementType</th>\n",
       "      <th>totals</th>\n",
       "      <th>trafficSource</th>\n",
       "      <th>visitId</th>\n",
       "      <th>visitNumber</th>\n",
       "      <th>visitStartTime</th>\n",
       "    </tr>\n",
       "  </thead>\n",
       "  <tbody>\n",
       "    <tr>\n",
       "      <th>0</th>\n",
       "      <td>Organic Search</td>\n",
       "      <td>20160902</td>\n",
       "      <td>{\"browser\": \"Chrome\", \"browserVersion\": \"not a...</td>\n",
       "      <td>1131660440785968503</td>\n",
       "      <td>{\"continent\": \"Asia\", \"subContinent\": \"Western...</td>\n",
       "      <td>1131660440785968503_1472830385</td>\n",
       "      <td>Not Socially Engaged</td>\n",
       "      <td>{\"visits\": \"1\", \"hits\": \"1\", \"pageviews\": \"1\",...</td>\n",
       "      <td>{\"campaign\": \"(not set)\", \"source\": \"google\", ...</td>\n",
       "      <td>1472830385</td>\n",
       "      <td>1</td>\n",
       "      <td>1472830385</td>\n",
       "    </tr>\n",
       "    <tr>\n",
       "      <th>1</th>\n",
       "      <td>Organic Search</td>\n",
       "      <td>20160902</td>\n",
       "      <td>{\"browser\": \"Firefox\", \"browserVersion\": \"not ...</td>\n",
       "      <td>377306020877927890</td>\n",
       "      <td>{\"continent\": \"Oceania\", \"subContinent\": \"Aust...</td>\n",
       "      <td>377306020877927890_1472880147</td>\n",
       "      <td>Not Socially Engaged</td>\n",
       "      <td>{\"visits\": \"1\", \"hits\": \"1\", \"pageviews\": \"1\",...</td>\n",
       "      <td>{\"campaign\": \"(not set)\", \"source\": \"google\", ...</td>\n",
       "      <td>1472880147</td>\n",
       "      <td>1</td>\n",
       "      <td>1472880147</td>\n",
       "    </tr>\n",
       "    <tr>\n",
       "      <th>2</th>\n",
       "      <td>Organic Search</td>\n",
       "      <td>20160902</td>\n",
       "      <td>{\"browser\": \"Chrome\", \"browserVersion\": \"not a...</td>\n",
       "      <td>3895546263509774583</td>\n",
       "      <td>{\"continent\": \"Europe\", \"subContinent\": \"South...</td>\n",
       "      <td>3895546263509774583_1472865386</td>\n",
       "      <td>Not Socially Engaged</td>\n",
       "      <td>{\"visits\": \"1\", \"hits\": \"1\", \"pageviews\": \"1\",...</td>\n",
       "      <td>{\"campaign\": \"(not set)\", \"source\": \"google\", ...</td>\n",
       "      <td>1472865386</td>\n",
       "      <td>1</td>\n",
       "      <td>1472865386</td>\n",
       "    </tr>\n",
       "    <tr>\n",
       "      <th>3</th>\n",
       "      <td>Organic Search</td>\n",
       "      <td>20160902</td>\n",
       "      <td>{\"browser\": \"UC Browser\", \"browserVersion\": \"n...</td>\n",
       "      <td>4763447161404445595</td>\n",
       "      <td>{\"continent\": \"Asia\", \"subContinent\": \"Southea...</td>\n",
       "      <td>4763447161404445595_1472881213</td>\n",
       "      <td>Not Socially Engaged</td>\n",
       "      <td>{\"visits\": \"1\", \"hits\": \"1\", \"pageviews\": \"1\",...</td>\n",
       "      <td>{\"campaign\": \"(not set)\", \"source\": \"google\", ...</td>\n",
       "      <td>1472881213</td>\n",
       "      <td>1</td>\n",
       "      <td>1472881213</td>\n",
       "    </tr>\n",
       "    <tr>\n",
       "      <th>4</th>\n",
       "      <td>Organic Search</td>\n",
       "      <td>20160902</td>\n",
       "      <td>{\"browser\": \"Chrome\", \"browserVersion\": \"not a...</td>\n",
       "      <td>27294437909732085</td>\n",
       "      <td>{\"continent\": \"Europe\", \"subContinent\": \"North...</td>\n",
       "      <td>27294437909732085_1472822600</td>\n",
       "      <td>Not Socially Engaged</td>\n",
       "      <td>{\"visits\": \"1\", \"hits\": \"1\", \"pageviews\": \"1\",...</td>\n",
       "      <td>{\"campaign\": \"(not set)\", \"source\": \"google\", ...</td>\n",
       "      <td>1472822600</td>\n",
       "      <td>2</td>\n",
       "      <td>1472822600</td>\n",
       "    </tr>\n",
       "  </tbody>\n",
       "</table>\n",
       "</div>"
      ],
      "text/plain": [
       "  channelGrouping      date  ... visitNumber visitStartTime\n",
       "0  Organic Search  20160902  ...           1     1472830385\n",
       "1  Organic Search  20160902  ...           1     1472880147\n",
       "2  Organic Search  20160902  ...           1     1472865386\n",
       "3  Organic Search  20160902  ...           1     1472881213\n",
       "4  Organic Search  20160902  ...           2     1472822600\n",
       "\n",
       "[5 rows x 12 columns]"
      ]
     },
     "execution_count": 16,
     "metadata": {},
     "output_type": "execute_result"
    }
   ],
   "source": [
    "train_dask_df.head(5)"
   ]
  },
  {
   "cell_type": "code",
   "execution_count": null,
   "metadata": {
    "colab": {
     "base_uri": "https://localhost:8080/"
    },
    "id": "g6AbgVKGc7qM",
    "outputId": "77cafc08-cf0e-4cf9-ae00-6e348c061b8c"
   },
   "outputs": [
    {
     "data": {
      "text/plain": [
       "(903653, 12)"
      ]
     },
     "execution_count": 17,
     "metadata": {},
     "output_type": "execute_result"
    }
   ],
   "source": [
    "train_dask_df.shape"
   ]
  },
  {
   "cell_type": "code",
   "execution_count": null,
   "metadata": {
    "colab": {
     "base_uri": "https://localhost:8080/"
    },
    "id": "3DN0cC6FdNBi",
    "outputId": "3930f8fb-435e-466a-dee8-f216313f32ed"
   },
   "outputs": [
    {
     "data": {
      "text/plain": [
       "array(['Organic Search', 'Referral', 'Paid Search', 'Affiliates',\n",
       "       'Direct', 'Display', 'Social', '(Other)'], dtype=object)"
      ]
     },
     "execution_count": 18,
     "metadata": {},
     "output_type": "execute_result"
    }
   ],
   "source": [
    "train_dask_df.channelGrouping.unique()"
   ]
  },
  {
   "cell_type": "code",
   "execution_count": null,
   "metadata": {
    "id": "hUhQpcVzdYzo"
   },
   "outputs": [],
   "source": []
  }
 ],
 "metadata": {
  "colab": {
   "provenance": []
  },
  "kernelspec": {
   "display_name": "Python 3 (ipykernel)",
   "language": "python",
   "name": "python3"
  },
  "language_info": {
   "codemirror_mode": {
    "name": "ipython",
    "version": 3
   },
   "file_extension": ".py",
   "mimetype": "text/x-python",
   "name": "python",
   "nbconvert_exporter": "python",
   "pygments_lexer": "ipython3",
   "version": "3.12.4"
  }
 },
 "nbformat": 4,
 "nbformat_minor": 4
}
