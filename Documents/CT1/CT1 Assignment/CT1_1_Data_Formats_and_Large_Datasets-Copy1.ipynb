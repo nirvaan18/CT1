{
 "cells": [
  {
   "cell_type": "markdown",
   "metadata": {
    "id": "DnW4VlulKrLx"
   },
   "source": [
    "## Preparing the lab environment\n",
    "\n",
    "- Create a dataset directory\n",
    "- download the file to the *datasets* directory"
   ]
  },
  {
   "cell_type": "code",
   "execution_count": 2,
   "metadata": {
    "executionInfo": {
     "elapsed": 657,
     "status": "ok",
     "timestamp": 1711173243593,
     "user": {
      "displayName": "MANARANJAN PRADHAN",
      "userId": "03885802779803335284"
     },
     "user_tz": -330
    },
    "id": "bRJyT7BEJ7Yx"
   },
   "outputs": [
    {
     "name": "stderr",
     "output_type": "stream",
     "text": [
      "A subdirectory or file datasets already exists.\n"
     ]
    }
   ],
   "source": [
    "!mkdir datasets"
   ]
  },
  {
   "cell_type": "code",
   "execution_count": null,
   "metadata": {
    "colab": {
     "base_uri": "https://localhost:8080/"
    },
    "executionInfo": {
     "elapsed": 2515,
     "status": "ok",
     "timestamp": 1711173283370,
     "user": {
      "displayName": "MANARANJAN PRADHAN",
      "userId": "03885802779803335284"
     },
     "user_tz": -330
    },
    "id": "Nc0mlI9gLMWj",
    "outputId": "e8a3d443-370c-4d0f-867a-233d5a6376cb"
   },
   "outputs": [],
   "source": [
    "#####!gdown 18Ulneqq0CSsuPPva9F4If-OFJkn7rj4M -O datasets/sigma.zip"
   ]
  },
  {
   "cell_type": "markdown",
   "metadata": {
    "id": "WHJvSB-NgaZe"
   },
   "source": [
    "### Download the dataset"
   ]
  },
  {
   "cell_type": "code",
   "execution_count": null,
   "metadata": {
    "colab": {
     "base_uri": "https://localhost:8080/"
    },
    "executionInfo": {
     "elapsed": 384,
     "status": "ok",
     "timestamp": 1711173290047,
     "user": {
      "displayName": "MANARANJAN PRADHAN",
      "userId": "03885802779803335284"
     },
     "user_tz": -330
    },
    "id": "tXIuxC-bNVko",
    "outputId": "144cd398-84cd-4450-b69c-8272267154d5"
   },
   "outputs": [],
   "source": [
    "####ls -al datasets/"
   ]
  },
  {
   "cell_type": "markdown",
   "metadata": {
    "id": "N6qbFMYOgdEC"
   },
   "source": [
    "### Unzip the dataset"
   ]
  },
  {
   "cell_type": "markdown",
   "metadata": {},
   "source": [
    "import zipfile\n",
    "import os\n",
    "\n",
    "# Path to the ZIP file\n",
    "zip_path = \"datasets/sigma.zip\"\n",
    "extract_path = \"datasets/\"\n",
    "\n",
    "# Extract the ZIP file\n",
    "with zipfile.ZipFile(zip_path, 'r') as zip_ref:\n",
    "    zip_ref.extractall(extract_path)\n",
    "\n",
    "print(f\"Files extracted to: {extract_path}\")\n",
    "\n"
   ]
  },
  {
   "cell_type": "markdown",
   "metadata": {
    "id": "Te90EZkSZbdY"
   },
   "source": [
    "## Benchmarking Various File Formats\n",
    "\n",
    "- csv\n",
    "- pickle\n",
    "- feather\n",
    "- parquet"
   ]
  },
  {
   "cell_type": "markdown",
   "metadata": {
    "id": "2IGtI_IbgmJw"
   },
   "source": [
    "### Reading the CSV File"
   ]
  },
  {
   "cell_type": "code",
   "execution_count": 3,
   "metadata": {
    "executionInfo": {
     "elapsed": 636,
     "status": "ok",
     "timestamp": 1711173393035,
     "user": {
      "displayName": "MANARANJAN PRADHAN",
      "userId": "03885802779803335284"
     },
     "user_tz": -330
    },
    "id": "fm5UDm5jPGfw"
   },
   "outputs": [],
   "source": [
    "import pandas as pd\n",
    "import os"
   ]
  },
  {
   "cell_type": "code",
   "execution_count": 5,
   "metadata": {},
   "outputs": [],
   "source": [
    "#Force pandas to read the entire file in one go, which can avoid type inference issues caused by chunk processing: as the error in next comman line \n",
    "#By default, pandas processes large files in chunks (low_memory=True), inferring data types on the fly, leading to potential mismatches.\n",
    "import pandas as pd\n",
    "\n",
    "train_df = pd.read_csv(r'C:\\Users\\lavan\\OneDrive\\Desktop\\ISB\\TERM 2\\CT1\\Group Assignment\\Wholesale customers data.csv', low_memory=False)\n"
   ]
  },
  {
   "cell_type": "code",
   "execution_count": 6,
   "metadata": {
    "colab": {
     "base_uri": "https://localhost:8080/"
    },
    "executionInfo": {
     "elapsed": 526,
     "status": "ok",
     "timestamp": 1711173544510,
     "user": {
      "displayName": "MANARANJAN PRADHAN",
      "userId": "03885802779803335284"
     },
     "user_tz": -330
    },
    "id": "QctrbNBaUolb",
    "outputId": "bc9a48f4-d12d-4268-e4a7-302fb4ef5ef6"
   },
   "outputs": [
    {
     "data": {
      "text/plain": [
       "Channel             int64\n",
       "Region              int64\n",
       "Fresh               int64\n",
       "Milk                int64\n",
       "Grocery             int64\n",
       "Frozen              int64\n",
       "Detergents_Paper    int64\n",
       "Delicassen          int64\n",
       "dtype: object"
      ]
     },
     "execution_count": 6,
     "metadata": {},
     "output_type": "execute_result"
    }
   ],
   "source": [
    "train_df.dtypes"
   ]
  },
  {
   "cell_type": "code",
   "execution_count": 7,
   "metadata": {
    "colab": {
     "base_uri": "https://localhost:8080/"
    },
    "executionInfo": {
     "elapsed": 2319,
     "status": "ok",
     "timestamp": 1711173612167,
     "user": {
      "displayName": "MANARANJAN PRADHAN",
      "userId": "03885802779803335284"
     },
     "user_tz": -330
    },
    "id": "9klvKDFwPi4D",
    "outputId": "f9d8dbc5-4fc2-4df3-c39b-44d6da9a2f7b"
   },
   "outputs": [
    {
     "name": "stdout",
     "output_type": "stream",
     "text": [
      "<class 'pandas.core.frame.DataFrame'>\n",
      "RangeIndex: 440 entries, 0 to 439\n",
      "Data columns (total 8 columns):\n",
      " #   Column            Non-Null Count  Dtype\n",
      "---  ------            --------------  -----\n",
      " 0   Channel           440 non-null    int64\n",
      " 1   Region            440 non-null    int64\n",
      " 2   Fresh             440 non-null    int64\n",
      " 3   Milk              440 non-null    int64\n",
      " 4   Grocery           440 non-null    int64\n",
      " 5   Frozen            440 non-null    int64\n",
      " 6   Detergents_Paper  440 non-null    int64\n",
      " 7   Delicassen        440 non-null    int64\n",
      "dtypes: int64(8)\n",
      "memory usage: 27.6 KB\n"
     ]
    }
   ],
   "source": [
    "train_df.info()"
   ]
  },
  {
   "cell_type": "code",
   "execution_count": 8,
   "metadata": {
    "colab": {
     "base_uri": "https://localhost:8080/"
    },
    "id": "MV21d_ArQs4w",
    "outputId": "b2277f6a-3af4-4f7b-c2e5-1c8667115642"
   },
   "outputs": [
    {
     "data": {
      "text/plain": [
       "(440, 8)"
      ]
     },
     "execution_count": 8,
     "metadata": {},
     "output_type": "execute_result"
    }
   ],
   "source": [
    "train_df.shape"
   ]
  },
  {
   "cell_type": "code",
   "execution_count": 9,
   "metadata": {
    "colab": {
     "base_uri": "https://localhost:8080/",
     "height": 475
    },
    "id": "L7NKV9H9QxhP",
    "outputId": "91d23a09-b54a-43e9-ea46-d48b5e2866f3"
   },
   "outputs": [
    {
     "data": {
      "text/html": [
       "<div>\n",
       "<style scoped>\n",
       "    .dataframe tbody tr th:only-of-type {\n",
       "        vertical-align: middle;\n",
       "    }\n",
       "\n",
       "    .dataframe tbody tr th {\n",
       "        vertical-align: top;\n",
       "    }\n",
       "\n",
       "    .dataframe thead th {\n",
       "        text-align: right;\n",
       "    }\n",
       "</style>\n",
       "<table border=\"1\" class=\"dataframe\">\n",
       "  <thead>\n",
       "    <tr style=\"text-align: right;\">\n",
       "      <th></th>\n",
       "      <th>Channel</th>\n",
       "      <th>Region</th>\n",
       "      <th>Fresh</th>\n",
       "      <th>Milk</th>\n",
       "      <th>Grocery</th>\n",
       "      <th>Frozen</th>\n",
       "      <th>Detergents_Paper</th>\n",
       "      <th>Delicassen</th>\n",
       "    </tr>\n",
       "  </thead>\n",
       "  <tbody>\n",
       "    <tr>\n",
       "      <th>0</th>\n",
       "      <td>2</td>\n",
       "      <td>3</td>\n",
       "      <td>12669</td>\n",
       "      <td>9656</td>\n",
       "      <td>7561</td>\n",
       "      <td>214</td>\n",
       "      <td>2674</td>\n",
       "      <td>1338</td>\n",
       "    </tr>\n",
       "    <tr>\n",
       "      <th>1</th>\n",
       "      <td>2</td>\n",
       "      <td>3</td>\n",
       "      <td>7057</td>\n",
       "      <td>9810</td>\n",
       "      <td>9568</td>\n",
       "      <td>1762</td>\n",
       "      <td>3293</td>\n",
       "      <td>1776</td>\n",
       "    </tr>\n",
       "    <tr>\n",
       "      <th>2</th>\n",
       "      <td>2</td>\n",
       "      <td>3</td>\n",
       "      <td>6353</td>\n",
       "      <td>8808</td>\n",
       "      <td>7684</td>\n",
       "      <td>2405</td>\n",
       "      <td>3516</td>\n",
       "      <td>7844</td>\n",
       "    </tr>\n",
       "    <tr>\n",
       "      <th>3</th>\n",
       "      <td>1</td>\n",
       "      <td>3</td>\n",
       "      <td>13265</td>\n",
       "      <td>1196</td>\n",
       "      <td>4221</td>\n",
       "      <td>6404</td>\n",
       "      <td>507</td>\n",
       "      <td>1788</td>\n",
       "    </tr>\n",
       "    <tr>\n",
       "      <th>4</th>\n",
       "      <td>2</td>\n",
       "      <td>3</td>\n",
       "      <td>22615</td>\n",
       "      <td>5410</td>\n",
       "      <td>7198</td>\n",
       "      <td>3915</td>\n",
       "      <td>1777</td>\n",
       "      <td>5185</td>\n",
       "    </tr>\n",
       "  </tbody>\n",
       "</table>\n",
       "</div>"
      ],
      "text/plain": [
       "   Channel  Region  Fresh  Milk  Grocery  Frozen  Detergents_Paper  Delicassen\n",
       "0        2       3  12669  9656     7561     214              2674        1338\n",
       "1        2       3   7057  9810     9568    1762              3293        1776\n",
       "2        2       3   6353  8808     7684    2405              3516        7844\n",
       "3        1       3  13265  1196     4221    6404               507        1788\n",
       "4        2       3  22615  5410     7198    3915              1777        5185"
      ]
     },
     "execution_count": 9,
     "metadata": {},
     "output_type": "execute_result"
    }
   ],
   "source": [
    "train_df.head(5)"
   ]
  },
  {
   "cell_type": "markdown",
   "metadata": {
    "id": "zrWU3mlSgpX1"
   },
   "source": [
    "### Optimizing data types"
   ]
  },
  {
   "cell_type": "code",
   "execution_count": null,
   "metadata": {
    "executionInfo": {
     "elapsed": 398,
     "status": "ok",
     "timestamp": 1711173642694,
     "user": {
      "displayName": "MANARANJAN PRADHAN",
      "userId": "03885802779803335284"
     },
     "user_tz": -330
    },
    "id": "NXLzZstZVDiH"
   },
   "outputs": [],
   "source": [
    "######while reading the file with data, we can enforce our own columns, meaning youcan define what your datatype has to be \n",
    "#memory will reduce as for the last few variabes the bytes have been reduced when we revised the datatypes and enforced new\n",
    "#dtypes = {\n",
    "   # \"channelGrouping\": \"str\",\n",
    "    #\"date\": \"int16\",\n",
    "    #\"device\": \"str\",\n",
    "    #\"fullVisitorId\": \"str\",\n",
    "    #\"geoNetwork\": \"str\",\n",
    "    #\"sessionId\": \"str\",\n",
    "    #\"socialEngagementType\": \"str\",\n",
    "    #\"totals\": \"str\",\n",
    "    #\"trafficSource\": \"str\",\n",
    "    #\"visitId\": \"uint16\",\n",
    "    #\"visitNumber\": \"int16\",\n",
    "    #\"visitStartTime\": \"uint16\"\n",
    "#}"
   ]
  },
  {
   "cell_type": "code",
   "execution_count": null,
   "metadata": {},
   "outputs": [],
   "source": [
    "####train_new_df = pd.read_csv(\"./datasets/train.csv\", dtype = dtypes)"
   ]
  },
  {
   "cell_type": "code",
   "execution_count": null,
   "metadata": {
    "colab": {
     "base_uri": "https://localhost:8080/"
    },
    "executionInfo": {
     "elapsed": 2084,
     "status": "ok",
     "timestamp": 1711173672951,
     "user": {
      "displayName": "MANARANJAN PRADHAN",
      "userId": "03885802779803335284"
     },
     "user_tz": -330
    },
    "id": "iyyGZawVWDEt",
    "outputId": "f696cd85-7933-4967-aa07-0be184c22278"
   },
   "outputs": [],
   "source": [
    "####train_new_df.info()"
   ]
  },
  {
   "cell_type": "markdown",
   "metadata": {
    "id": "MnQKvvUOguAY"
   },
   "source": [
    "### Creating other file formats"
   ]
  },
  {
   "cell_type": "code",
   "execution_count": null,
   "metadata": {
    "executionInfo": {
     "elapsed": 1997,
     "status": "ok",
     "timestamp": 1711173717733,
     "user": {
      "displayName": "MANARANJAN PRADHAN",
      "userId": "03885802779803335284"
     },
     "user_tz": -330
    },
    "id": "BjQykrCBQzM3"
   },
   "outputs": [],
   "source": [
    "train_new_df.to_pickle(\"./datasets/train.pkl\")"
   ]
  },
  {
   "cell_type": "code",
   "execution_count": null,
   "metadata": {},
   "outputs": [],
   "source": [
    "import os\n",
    "\n",
    "# Get all files and their sizes in MB in the 'datasets' folder\n",
    "for filename in os.listdir(\"datasets\"):\n",
    "    file_path = os.path.join(\"datasets\", filename)\n",
    "    if os.path.isfile(file_path):\n",
    "        file_size = os.path.getsize(file_path)  # Get file size in bytes\n",
    "        file_size_mb = file_size / (1024 * 1024)  # Convert bytes to MB\n",
    "        print(f\"{filename} -> {file_size_mb:.2f} MB\")\n",
    "\n",
    "\n"
   ]
  },
  {
   "cell_type": "code",
   "execution_count": null,
   "metadata": {
    "colab": {
     "base_uri": "https://localhost:8080/"
    },
    "executionInfo": {
     "elapsed": 387,
     "status": "ok",
     "timestamp": 1711173722975,
     "user": {
      "displayName": "MANARANJAN PRADHAN",
      "userId": "03885802779803335284"
     },
     "user_tz": -330
    },
    "id": "O5z_S0GOSzXF",
    "outputId": "0fbb988b-ff63-481b-acfe-34cf6ed4dba4"
   },
   "outputs": [],
   "source": [
    "#this is not compatible with windows, so used the command above\n",
    "#ls -al datasets/"
   ]
  },
  {
   "cell_type": "code",
   "execution_count": null,
   "metadata": {
    "colab": {
     "base_uri": "https://localhost:8080/"
    },
    "id": "3snBWj0kJwka",
    "outputId": "e782afe9-52f2-4ef3-89b8-4f1018e8987b"
   },
   "outputs": [],
   "source": [
    "file_size\n",
    "file_size_mb = file_size / (1024 * 1024)  # Convert bytes to MB\n",
    "file_size_mb\n",
    "print(f\"{filename} -> {file_size_mb:.2f} MB\")"
   ]
  },
  {
   "cell_type": "code",
   "execution_count": null,
   "metadata": {
    "executionInfo": {
     "elapsed": 6519,
     "status": "ok",
     "timestamp": 1711173756236,
     "user": {
      "displayName": "MANARANJAN PRADHAN",
      "userId": "03885802779803335284"
     },
     "user_tz": -330
    },
    "id": "UvnM4vY5TCRK"
   },
   "outputs": [],
   "source": [
    "train_new_df.to_parquet(\"./datasets/train.parquet\")"
   ]
  },
  {
   "cell_type": "code",
   "execution_count": null,
   "metadata": {},
   "outputs": [],
   "source": [
    "import os\n",
    "\n",
    "# List files and sizes in the 'datasets' folder\n",
    "for filename in os.listdir(\"datasets\"):\n",
    "    file_path = os.path.join(\"datasets\", filename)\n",
    "    if os.path.isfile(file_path):\n",
    "        file_size = os.path.getsize(file_path)  # Get file size in bytes\n",
    "        file_size_mb = file_size / (1024 * 1024)  # Convert to MB\n",
    "        print(f\"{filename} -> {file_size_mb:.2f} MB\")\n"
   ]
  },
  {
   "cell_type": "code",
   "execution_count": null,
   "metadata": {
    "colab": {
     "base_uri": "https://localhost:8080/"
    },
    "executionInfo": {
     "elapsed": 15,
     "status": "ok",
     "timestamp": 1711173756236,
     "user": {
      "displayName": "MANARANJAN PRADHAN",
      "userId": "03885802779803335284"
     },
     "user_tz": -330
    },
    "id": "L6aDiRJUWOb5",
    "outputId": "f5931757-5dc8-4332-eb96-24b7e06c549c"
   },
   "outputs": [],
   "source": [
    "#this is not compatible with windows, so used the command above\n",
    "#!ls -al datasets/"
   ]
  },
  {
   "cell_type": "code",
   "execution_count": null,
   "metadata": {
    "executionInfo": {
     "elapsed": 8136,
     "status": "ok",
     "timestamp": 1711174490643,
     "user": {
      "displayName": "MANARANJAN PRADHAN",
      "userId": "03885802779803335284"
     },
     "user_tz": -330
    },
    "id": "7i2cRAlpWPIs"
   },
   "outputs": [],
   "source": [
    "train_new_df.to_feather(\"./datasets/train.feather\")"
   ]
  },
  {
   "cell_type": "code",
   "execution_count": null,
   "metadata": {},
   "outputs": [],
   "source": [
    "import os\n",
    "\n",
    "# List files and sizes in the 'datasets' folder\n",
    "for filename in os.listdir(\"datasets\"):\n",
    "    file_path = os.path.join(\"datasets\", filename)\n",
    "    if os.path.isfile(file_path):\n",
    "        file_size = os.path.getsize(file_path)  # Get file size in bytes\n",
    "        file_size_mb = file_size / (1024 * 1024)  # Convert to MB\n",
    "        print(f\"{filename} -> {file_size_mb:.2f} MB\")\n"
   ]
  },
  {
   "cell_type": "code",
   "execution_count": null,
   "metadata": {
    "colab": {
     "base_uri": "https://localhost:8080/"
    },
    "executionInfo": {
     "elapsed": 4,
     "status": "ok",
     "timestamp": 1711174490644,
     "user": {
      "displayName": "MANARANJAN PRADHAN",
      "userId": "03885802779803335284"
     },
     "user_tz": -330
    },
    "id": "69F-OpbdWWb7",
    "outputId": "6caab43a-1a80-477a-a5fd-68b3a1132a31"
   },
   "outputs": [],
   "source": [
    "#this is not compatible with windows, so used the command above\n",
    "#!ls -al datasets/"
   ]
  },
  {
   "cell_type": "code",
   "execution_count": null,
   "metadata": {
    "id": "_h1u6vO8J29Z"
   },
   "outputs": [],
   "source": [
    "### Comparing file sizes"
   ]
  },
  {
   "cell_type": "code",
   "execution_count": null,
   "metadata": {
    "id": "FEBQN7gFKZFG"
   },
   "outputs": [],
   "source": [
    "##file_size = os.path.getsize('d:/file.jpg')"
   ]
  },
  {
   "cell_type": "code",
   "execution_count": null,
   "metadata": {
    "executionInfo": {
     "elapsed": 379,
     "status": "ok",
     "timestamp": 1711174493016,
     "user": {
      "displayName": "MANARANJAN PRADHAN",
      "userId": "03885802779803335284"
     },
     "user_tz": -330
    },
    "id": "-G-Gid3kJ5Vn"
   },
   "outputs": [],
   "source": [
    "filenames = ['./datasets/train.csv',\n",
    "             './datasets/train.pkl',\n",
    "             './datasets/train.feather',\n",
    "             './datasets/train.parquet']\n",
    "\n",
    "all_filesizes = [os.path.getsize(f) for f in filenames]\n",
    "\n",
    "filescompare_df = pd.DataFrame( { \"formats\" : filenames,\n",
    "                                  \"filesize\": all_filesizes})"
   ]
  },
  {
   "cell_type": "code",
   "execution_count": null,
   "metadata": {},
   "outputs": [],
   "source": [
    "# Define the folder path where the files are located\n",
    "folder_path = \"datasets/\"\n",
    "\n",
    "# Create an empty list to store file info\n",
    "file_info = []\n",
    "\n",
    "# Iterate through all files in the specified folder\n",
    "for filename in os.listdir(folder_path):\n",
    "    file_path = os.path.join(folder_path, filename)\n",
    "    if os.path.isfile(file_path):\n",
    "        # Get file size in bytes\n",
    "        file_size = os.path.getsize(file_path)\n",
    "        \n",
    "        # Convert file size to MB\n",
    "        file_size_mb = file_size / (1024 * 1024)\n",
    "        \n",
    "        # Append the file info to the list\n",
    "        file_info.append({\"Filename\": filename, \"Size_MB\": round(file_size_mb, 2)})\n",
    "\n",
    "# Create a DataFrame from the file info list\n",
    "filescompare_df = pd.DataFrame(file_info)\n",
    "\n",
    "# Display the DataFrame\n",
    "print(filescompare_df)"
   ]
  },
  {
   "cell_type": "code",
   "execution_count": null,
   "metadata": {
    "colab": {
     "base_uri": "https://localhost:8080/",
     "height": 175
    },
    "executionInfo": {
     "elapsed": 409,
     "status": "ok",
     "timestamp": 1711174520941,
     "user": {
      "displayName": "MANARANJAN PRADHAN",
      "userId": "03885802779803335284"
     },
     "user_tz": -330
    },
    "id": "pJupx-VFKpSl",
    "outputId": "3611c3a5-b648-4079-d910-4921ebb69f6f"
   },
   "outputs": [],
   "source": [
    "filescompare_df"
   ]
  },
  {
   "cell_type": "code",
   "execution_count": null,
   "metadata": {
    "executionInfo": {
     "elapsed": 1458,
     "status": "ok",
     "timestamp": 1711174524854,
     "user": {
      "displayName": "MANARANJAN PRADHAN",
      "userId": "03885802779803335284"
     },
     "user_tz": -330
    },
    "id": "Z_MVfF1fNQv-"
   },
   "outputs": [],
   "source": [
    "import matplotlib.pyplot as plt\n",
    "import seaborn as sn"
   ]
  },
  {
   "cell_type": "code",
   "execution_count": null,
   "metadata": {},
   "outputs": [],
   "source": [
    "import os\n",
    "import pandas as pd\n",
    "import seaborn as sn\n",
    "import matplotlib.pyplot as plt\n",
    "\n",
    "# Define the folder path where the files are located\n",
    "folder_path = \"datasets/\"\n",
    "\n",
    "# Create an empty list to store file info\n",
    "file_info = []\n",
    "\n",
    "# Iterate through all files in the specified folder\n",
    "for filename in os.listdir(folder_path):\n",
    "    file_path = os.path.join(folder_path, filename)\n",
    "    if os.path.isfile(file_path):\n",
    "        # Get file size in bytes\n",
    "        file_size = os.path.getsize(file_path)\n",
    "        \n",
    "        # Convert file size to MB\n",
    "        file_size_mb = file_size / (1024 * 1024)\n",
    "        \n",
    "        # Extract file extension (format)\n",
    "        file_format = os.path.splitext(filename)[1][1:]  # Strip the leading dot\n",
    "        \n",
    "        # Append the file info to the list\n",
    "        file_info.append({\"Filename\": filename, \"Size_MB\": round(file_size_mb, 2), \"Formats\": file_format})\n",
    "\n",
    "# Create a DataFrame from the file info list\n",
    "filescompare_df = pd.DataFrame(file_info)\n",
    "\n",
    "# Create the barplot\n",
    "plt.figure(figsize=(15, 5))\n",
    "sn.barplot(data=filescompare_df, x='Formats', y='Size_MB')\n",
    "\n",
    "# Show the plot\n",
    "plt.show()\n"
   ]
  },
  {
   "cell_type": "code",
   "execution_count": null,
   "metadata": {
    "colab": {
     "base_uri": "https://localhost:8080/",
     "height": 349
    },
    "executionInfo": {
     "elapsed": 694,
     "status": "ok",
     "timestamp": 1711174525546,
     "user": {
      "displayName": "MANARANJAN PRADHAN",
      "userId": "03885802779803335284"
     },
     "user_tz": -330
    },
    "id": "inP_9hDJNSuX",
    "outputId": "717fe41c-bd8b-4aca-f97b-63bfdcd314a9"
   },
   "outputs": [],
   "source": [
    "# this isnt working,so used the above syntax for the plot\n",
    "plt.figure( figsize = (15, 5) )\n",
    "sn.barplot( data = filescompare_df,\n",
    "           x = 'formats',\n",
    "           y = 'filesize');"
   ]
  },
  {
   "cell_type": "markdown",
   "metadata": {
    "id": "gUQ14AJrnIGb"
   },
   "source": [
    "### Read time benchmarking of different formats"
   ]
  },
  {
   "cell_type": "code",
   "execution_count": null,
   "metadata": {
    "colab": {
     "base_uri": "https://localhost:8080/"
    },
    "executionInfo": {
     "elapsed": 3483,
     "status": "ok",
     "timestamp": 1711174552789,
     "user": {
      "displayName": "MANARANJAN PRADHAN",
      "userId": "03885802779803335284"
     },
     "user_tz": -330
    },
    "id": "V-SLEvE6WYna",
    "outputId": "a1e6c741-391c-4c3a-f30d-a901d22b979b"
   },
   "outputs": [],
   "source": [
    "%%time\n",
    "\n",
    "train_pkl_df = pd.read_pickle(\"./datasets/train.pkl\")"
   ]
  },
  {
   "cell_type": "code",
   "execution_count": null,
   "metadata": {
    "colab": {
     "base_uri": "https://localhost:8080/"
    },
    "executionInfo": {
     "elapsed": 5278,
     "status": "ok",
     "timestamp": 1711174570862,
     "user": {
      "displayName": "MANARANJAN PRADHAN",
      "userId": "03885802779803335284"
     },
     "user_tz": -330
    },
    "id": "IM49bgBjWh5h",
    "outputId": "07a92657-97cc-43a2-853b-6cbd98927084"
   },
   "outputs": [],
   "source": [
    "%%time\n",
    "\n",
    "train_feather_df = pd.read_feather(\"./datasets/train.feather\")"
   ]
  },
  {
   "cell_type": "code",
   "execution_count": null,
   "metadata": {
    "colab": {
     "base_uri": "https://localhost:8080/"
    },
    "id": "ck6pH7oCWrlG",
    "outputId": "1db6c101-a6fb-4090-f730-3f8fcc5f16dc"
   },
   "outputs": [],
   "source": [
    "train_feather_df.shape"
   ]
  },
  {
   "cell_type": "code",
   "execution_count": null,
   "metadata": {
    "colab": {
     "base_uri": "https://localhost:8080/"
    },
    "executionInfo": {
     "elapsed": 5940,
     "status": "ok",
     "timestamp": 1711174576789,
     "user": {
      "displayName": "MANARANJAN PRADHAN",
      "userId": "03885802779803335284"
     },
     "user_tz": -330
    },
    "id": "ePnu9eQNWvE_",
    "outputId": "e84f55da-6b90-494c-de86-5ab04f7e5b2e"
   },
   "outputs": [],
   "source": [
    "%%time\n",
    "\n",
    "train_parquet_df = pd.read_parquet(\"./datasets/train.parquet\")"
   ]
  },
  {
   "cell_type": "code",
   "execution_count": null,
   "metadata": {
    "colab": {
     "base_uri": "https://localhost:8080/"
    },
    "executionInfo": {
     "elapsed": 31847,
     "status": "ok",
     "timestamp": 1711174805696,
     "user": {
      "displayName": "MANARANJAN PRADHAN",
      "userId": "03885802779803335284"
     },
     "user_tz": -330
    },
    "id": "zDLLU-plLK0a",
    "outputId": "50c36347-79b5-4d0c-bc36-e4a4df6df753"
   },
   "outputs": [],
   "source": [
    "import time\n",
    "\n",
    "t1 = time.perf_counter()\n",
    "train_df = pd.read_csv(\"./datasets/train.csv\")\n",
    "time_csv = time.perf_counter() - t1\n",
    "\n",
    "t1 = time.perf_counter()\n",
    "train_pkl_df = pd.read_pickle(\"./datasets/train.pkl\")\n",
    "time_pkl = time.perf_counter() - t1\n",
    "\n",
    "t1 = time.perf_counter()\n",
    "train_feather_df = pd.read_feather(\"./datasets/train.feather\")\n",
    "time_feather = time.perf_counter() - t1\n",
    "\n",
    "t1 = time.perf_counter()\n",
    "train_parquet_df = pd.read_parquet(\"./datasets/train.parquet\")\n",
    "time_parquet = time.perf_counter() - t1"
   ]
  },
  {
   "cell_type": "code",
   "execution_count": null,
   "metadata": {
    "executionInfo": {
     "elapsed": 5,
     "status": "ok",
     "timestamp": 1711174805696,
     "user": {
      "displayName": "MANARANJAN PRADHAN",
      "userId": "03885802779803335284"
     },
     "user_tz": -330
    },
    "id": "oBnfcagSNASZ"
   },
   "outputs": [],
   "source": [
    "filescompare_df['read_time'] = [time_csv, time_pkl, time_feather, time_parquet]"
   ]
  },
  {
   "cell_type": "code",
   "execution_count": null,
   "metadata": {
    "colab": {
     "base_uri": "https://localhost:8080/",
     "height": 175
    },
    "executionInfo": {
     "elapsed": 5,
     "status": "ok",
     "timestamp": 1711174805696,
     "user": {
      "displayName": "MANARANJAN PRADHAN",
      "userId": "03885802779803335284"
     },
     "user_tz": -330
    },
    "id": "YdR1rq93NOEh",
    "outputId": "c23513d0-5b91-40ec-b408-151a323c23ca"
   },
   "outputs": [],
   "source": [
    "filescompare_df"
   ]
  },
  {
   "cell_type": "code",
   "execution_count": null,
   "metadata": {
    "colab": {
     "base_uri": "https://localhost:8080/",
     "height": 337
    },
    "executionInfo": {
     "elapsed": 881,
     "status": "ok",
     "timestamp": 1711174806573,
     "user": {
      "displayName": "MANARANJAN PRADHAN",
      "userId": "03885802779803335284"
     },
     "user_tz": -330
    },
    "id": "jfxlo532NZB-",
    "outputId": "6c20a64e-2eac-4716-8fc6-2319634f3756"
   },
   "outputs": [],
   "source": [
    "plt.figure( figsize = (15, 5) )\n",
    "sn.barplot( data = filescompare_df,\n",
    "           x = 'formats',\n",
    "           y = 'read_time');"
   ]
  },
  {
   "cell_type": "markdown",
   "metadata": {
    "id": "7IZbpZdmZiMB"
   },
   "source": [
    "## Frameworks\n",
    "\n",
    "- datatable (https://datatable.readthedocs.io/en/latest/index.html)\n",
    "- dask"
   ]
  },
  {
   "cell_type": "code",
   "execution_count": null,
   "metadata": {
    "colab": {
     "base_uri": "https://localhost:8080/"
    },
    "id": "SqjjOEcIWy1o",
    "outputId": "8eff8852-61fc-4761-ed65-60377722ed18"
   },
   "outputs": [],
   "source": [
    "!pip install datatable"
   ]
  },
  {
   "cell_type": "code",
   "execution_count": null,
   "metadata": {
    "colab": {
     "base_uri": "https://localhost:8080/",
     "height": 35
    },
    "id": "chsWvs3PaLvQ",
    "outputId": "ace69966-1a6e-4b48-a9dc-cc98f9644016"
   },
   "outputs": [],
   "source": [
    "import datatable as dt\n",
    "print(dt.__version__)"
   ]
  },
  {
   "cell_type": "code",
   "execution_count": null,
   "metadata": {
    "colab": {
     "base_uri": "https://localhost:8080/"
    },
    "id": "B1nmiBZGaP_G",
    "outputId": "ffb39021-8230-47a9-8d71-b0228375d466"
   },
   "outputs": [],
   "source": [
    "%%time\n",
    "\n",
    "train_dtable = dt.fread(\"./datasets/train.csv\")"
   ]
  },
  {
   "cell_type": "code",
   "execution_count": null,
   "metadata": {
    "colab": {
     "base_uri": "https://localhost:8080/",
     "height": 475
    },
    "id": "_meLEu_ziWit",
    "outputId": "9d37d615-d777-4a0d-ec45-ecdff1205dad"
   },
   "outputs": [],
   "source": [
    "train_df.head(5)"
   ]
  },
  {
   "cell_type": "code",
   "execution_count": null,
   "metadata": {
    "id": "IzSK8P6Oac9k"
   },
   "outputs": [],
   "source": [
    "train_dtable_df = train_dtable.to_pandas()"
   ]
  },
  {
   "cell_type": "code",
   "execution_count": null,
   "metadata": {
    "colab": {
     "base_uri": "https://localhost:8080/"
    },
    "id": "zhxqM8ujaoIh",
    "outputId": "180bff07-4f37-426a-98a0-1257a5653645"
   },
   "outputs": [],
   "source": [
    "train_dtable_df.info()"
   ]
  },
  {
   "cell_type": "code",
   "execution_count": null,
   "metadata": {
    "colab": {
     "base_uri": "https://localhost:8080/",
     "height": 1000
    },
    "id": "TOvqx3fPcM2j",
    "outputId": "3fac05c5-f80e-4d9d-e1e8-c5980fab62fc"
   },
   "outputs": [],
   "source": [
    "!pip install \"dask[complete]\""
   ]
  },
  {
   "cell_type": "code",
   "execution_count": null,
   "metadata": {
    "id": "IpND8S9FbVx7"
   },
   "outputs": [],
   "source": [
    "import pandas as pd\n",
    "import dask.dataframe as dd"
   ]
  },
  {
   "cell_type": "code",
   "execution_count": null,
   "metadata": {
    "colab": {
     "base_uri": "https://localhost:8080/"
    },
    "id": "6cvq60MTb6zW",
    "outputId": "e8b0952b-1494-46d9-a803-86f11a94d178"
   },
   "outputs": [],
   "source": [
    "%%time\n",
    "\n",
    "train_dask_df = dd.read_parquet(\"./datasets/train.parquet\").compute()"
   ]
  },
  {
   "cell_type": "code",
   "execution_count": null,
   "metadata": {
    "colab": {
     "base_uri": "https://localhost:8080/"
    },
    "id": "qPtTCxjYcz7d",
    "outputId": "a9e86f6b-f69b-404f-9f4d-51044d6a1ce5"
   },
   "outputs": [],
   "source": [
    "train_dask_df.info()"
   ]
  },
  {
   "cell_type": "code",
   "execution_count": null,
   "metadata": {
    "colab": {
     "base_uri": "https://localhost:8080/",
     "height": 485
    },
    "id": "EmdWT-mRc4Sl",
    "outputId": "d982bf26-7ce6-4731-f311-8c456b65aea7"
   },
   "outputs": [],
   "source": [
    "train_dask_df.head(5)"
   ]
  },
  {
   "cell_type": "code",
   "execution_count": null,
   "metadata": {
    "colab": {
     "base_uri": "https://localhost:8080/"
    },
    "id": "g6AbgVKGc7qM",
    "outputId": "77cafc08-cf0e-4cf9-ae00-6e348c061b8c"
   },
   "outputs": [],
   "source": [
    "train_dask_df.shape"
   ]
  },
  {
   "cell_type": "code",
   "execution_count": null,
   "metadata": {
    "colab": {
     "base_uri": "https://localhost:8080/"
    },
    "id": "3DN0cC6FdNBi",
    "outputId": "3930f8fb-435e-466a-dee8-f216313f32ed"
   },
   "outputs": [],
   "source": [
    "train_dask_df.channelGrouping.unique()"
   ]
  },
  {
   "cell_type": "code",
   "execution_count": null,
   "metadata": {
    "id": "hUhQpcVzdYzo"
   },
   "outputs": [],
   "source": []
  }
 ],
 "metadata": {
  "colab": {
   "provenance": []
  },
  "kernelspec": {
   "display_name": "Python 3 (ipykernel)",
   "language": "python",
   "name": "python3"
  },
  "language_info": {
   "codemirror_mode": {
    "name": "ipython",
    "version": 3
   },
   "file_extension": ".py",
   "mimetype": "text/x-python",
   "name": "python",
   "nbconvert_exporter": "python",
   "pygments_lexer": "ipython3",
   "version": "3.12.4"
  }
 },
 "nbformat": 4,
 "nbformat_minor": 4
}
